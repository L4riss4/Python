{
  "nbformat": 4,
  "nbformat_minor": 0,
  "metadata": {
    "colab": {
      "provenance": [],
      "authorship_tag": "ABX9TyP1+zUPhLJ6b57UkFfD9S6P",
      "include_colab_link": true
    },
    "kernelspec": {
      "name": "python3",
      "display_name": "Python 3"
    },
    "language_info": {
      "name": "python"
    }
  },
  "cells": [
    {
      "cell_type": "markdown",
      "metadata": {
        "id": "view-in-github",
        "colab_type": "text"
      },
      "source": [
        "<a href=\"https://colab.research.google.com/github/L4riss4/Python/blob/main/TP_01_Programa%C3%A7%C3%A3o_com_Python.ipynb\" target=\"_parent\"><img src=\"https://colab.research.google.com/assets/colab-badge.svg\" alt=\"Open In Colab\"/></a>"
      ]
    },
    {
      "cell_type": "markdown",
      "source": [
        "# TP 01\n"
      ],
      "metadata": {
        "id": "J7vaFqaz8Th7"
      }
    },
    {
      "cell_type": "markdown",
      "source": [
        "####  1. Crie um programa que peça ao usuário para inserir dois números e, em seguida, calcule e exiba a soma, subtração, multiplicação, divisão e divisão inteira desses números."
      ],
      "metadata": {
        "id": "drfUWauy8mwQ"
      }
    },
    {
      "cell_type": "code",
      "execution_count": null,
      "metadata": {
        "id": "dIHtSq4L79OU",
        "colab": {
          "base_uri": "https://localhost:8080/"
        },
        "outputId": "ae6768d9-c054-4620-ab87-44983b53a880"
      },
      "outputs": [
        {
          "output_type": "stream",
          "name": "stdout",
          "text": [
            "Digite o primeiro número: 8\n",
            "Digite o segundo número: 5\n",
            "Resultado das operações: \n",
            " Soma: 13 \n",
            " Subtração: 3 \n",
            " Multiplicação: 40 \n",
            " Divisão: 1.6\n"
          ]
        }
      ],
      "source": [
        "#inserção de números\n",
        "numero_um = int(input(\"Digite o primeiro número: \"))\n",
        "numero_dois = int(input(\"Digite o segundo número: \"))\n",
        "\n",
        "#operações\n",
        "soma = numero_um + numero_dois\n",
        "subtracao = numero_um - numero_dois\n",
        "multiplicacao = numero_um * numero_dois\n",
        "divisao = numero_um / numero_dois\n",
        "\n",
        "#exibição de resultados\n",
        "print(f\"Resultado das operações: \\n Soma: {soma} \\n Subtração: {subtracao} \\n Multiplicação: {multiplicacao} \\n Divisão: {divisao}\")"
      ]
    },
    {
      "cell_type": "markdown",
      "source": [
        "####  2. Faça um programa que converta um número fornecido de minutos em horas e minutos, e depois faça o inverso, convertendo horas e minutos de volta para minutos totais."
      ],
      "metadata": {
        "id": "NvrZnEvS8qwT"
      }
    },
    {
      "cell_type": "code",
      "source": [
        "#obtenção de dados\n",
        "tempo_minuto = int(input(\"Insira o número de minutos que deseja converter em horas e minutos: \"))\n",
        "tempo_hora = float(input(\"Insira o número de horas e minutos que deseja converter para minutos: (ex.: 2.45)\\n\"))\n",
        "\n",
        "#cálculo\n",
        "tempo_horas = tempo_minuto/60\n",
        "tempo_minutos = tempo_hora * 60\n",
        "\n",
        "#exibição\n",
        "print(f\"Tempo em horas: {tempo_horas:.3f} h\")\n",
        "print(f\"Tempo em minutos: {tempo_minutos} min\")"
      ],
      "metadata": {
        "id": "ZPau8xAX9an7",
        "colab": {
          "base_uri": "https://localhost:8080/"
        },
        "outputId": "d10f68ed-02ca-4db7-ea98-5cb959c70ee5"
      },
      "execution_count": null,
      "outputs": [
        {
          "output_type": "stream",
          "name": "stdout",
          "text": [
            "Insira o número de minutos que deseja converter em horas e minutos: 587\n",
            "Insira o número de horas e minutos que deseja converter para minutos: (ex.: 2.45)\n",
            "9.783\n",
            "Tempo em horas: 9.783 h\n",
            "Tempo em minutos: 586.98 min\n"
          ]
        }
      ]
    },
    {
      "cell_type": "markdown",
      "source": [
        "#### 3. Escreva um programa que receba dois nomes de usuário e os combine de maneira criativa para formar um novo nome."
      ],
      "metadata": {
        "id": "pkZlp4Jj9PTF"
      }
    },
    {
      "cell_type": "code",
      "source": [
        "#Recebendo nomes\n",
        "nome_um = input(\"Digite o primeiro nome de usuário: \")\n",
        "nome_dois = input(\"Digite o segundo nome de usuário: \")\n",
        "\n",
        "# Dividindo os nomes em partes aleatórias e combinando-as\n",
        "novo_nome = nome_um[:len(nome_um)//2] + nome_dois[len(nome_dois)//2:]\n",
        "\n",
        "# Exibir o novo nome aleatório\n",
        "print(\"Novo nome aleatório: \", novo_nome)"
      ],
      "metadata": {
        "id": "EbsK20f79VrP",
        "colab": {
          "base_uri": "https://localhost:8080/"
        },
        "outputId": "cafc3df8-9e6e-47f2-9967-1f2a2e32b658"
      },
      "execution_count": null,
      "outputs": [
        {
          "output_type": "stream",
          "name": "stdout",
          "text": [
            "Digite o primeiro nome de usuário: James\n",
            "Digite o segundo nome de usuário: Mary\n",
            "Novo nome aleatório:  Jary\n"
          ]
        }
      ]
    },
    {
      "cell_type": "markdown",
      "source": [
        "#### 4. Desenvolva um programa que peça ao usuário para escolher uma operação (adição, subtração, multiplicação, divisão) e dois números, e então execute a operação escolhida com os números."
      ],
      "metadata": {
        "id": "OLybJFNj9e1M"
      }
    },
    {
      "cell_type": "code",
      "source": [
        "#Escolha do usuário\n",
        "escolha = int(input(\"Escolha a operação a ser realizada: \\n 1.Soma \\n 2.Subtração \\n 3.Multiplicação \\n 4.Divisão \\n\"))\n",
        "num_um = float(input(\"Digite o primeiro número para realizar a operação: \"))\n",
        "num_dois = float(input(\"Digite o segundo número para realizar a operação: \"))\n",
        "\n",
        "#operação escolhida\n",
        "if escolha == 1:\n",
        "  resultado = num_um + num_dois\n",
        "  print(f\"\\nA operação escolhida foi soma, resultado: {resultado}\")\n",
        "elif escolha == 2:\n",
        "  resultado = num_um - num_dois\n",
        "  print(f\"\\nA operação escolhida foi subtração, resultado: {resultado}\")\n",
        "elif escolha == 3:\n",
        "  resultado = num_um * num_dois\n",
        "  print(f\"\\nA operação escolhida foi multiplicação, resultado: {resultado:.2f}\")\n",
        "elif escolha == 4:\n",
        "  resultado = num_um / num_dois\n",
        "  print(f\"\\nA operação escolhida foi divisão, resultado: {resultado:.2f}\")\n",
        "else:\n",
        "  print(\"\\n\\nEscolha uma opção válida! \\n Digite o número que indica a operação.\")"
      ],
      "metadata": {
        "id": "D54tvHOF9mtz",
        "colab": {
          "base_uri": "https://localhost:8080/"
        },
        "outputId": "48aa9636-4ce5-45b7-f9d7-5bc82b39de00"
      },
      "execution_count": null,
      "outputs": [
        {
          "output_type": "stream",
          "name": "stdout",
          "text": [
            "Escolha a operação a ser realizada: \n",
            " 1.Soma \n",
            " 2.Subtração \n",
            " 3.Multiplicação \n",
            " 4.Divisão \n",
            "4\n",
            "Digite o primeiro número para realizar a operação: 53.6\n",
            "Digite o segundo número para realizar a operação: 98.5\n",
            "\n",
            "A operação escolhida foi divisão, resultado: 0.54\n"
          ]
        }
      ]
    },
    {
      "cell_type": "markdown",
      "source": [
        "#### 5. Crie um programa que peça ao usuário seu nome e sobrenome usando input e, em seguida, combine-os para formar uma saudação personalizada."
      ],
      "metadata": {
        "id": "jw1g_MrT9pcE"
      }
    },
    {
      "cell_type": "code",
      "source": [
        "#Nome do usuário\n",
        "nome = input(\"Digite seu nome: \")\n",
        "sobrenome = input(\"Digite seu sobrenome: \")\n",
        "\n",
        "#Mensagem personalizada\n",
        "print(f\"Olá {nome} {sobrenome}, seja bem vindo(a) a resolução do exercício 5.\")"
      ],
      "metadata": {
        "id": "bvWhcSdn9thj",
        "colab": {
          "base_uri": "https://localhost:8080/"
        },
        "outputId": "d03d41c8-77f8-49fb-df71-a30000f3917b"
      },
      "execution_count": null,
      "outputs": [
        {
          "output_type": "stream",
          "name": "stdout",
          "text": [
            "Digite seu nome: Larissa\n",
            "Digite seu sobrenome: Araújo\n",
            "Olá Larissa Araújo, seja bem vindo(a) a resolução do exercício 5.\n"
          ]
        }
      ]
    },
    {
      "cell_type": "markdown",
      "source": [
        "#### 6. Escreva um programa onde o usuário deve adivinhar um número secreto. O programa deve dizer se o palpite está correto, muito alto ou muito baixo."
      ],
      "metadata": {
        "id": "dHbJa1uq9vbH"
      }
    },
    {
      "cell_type": "code",
      "source": [
        "import random\n",
        "#Geração de número aleatório\n",
        "num = random.randint(0,9)\n",
        "print(f\"{num}\")\n",
        "\n",
        "#Palpite usuário\n",
        "palpite = int(input(\"Insira um número entre 0 e 9: \"))\n",
        "\n",
        "#Match de números\n",
        "while palpite != num:\n",
        "  if palpite == num:\n",
        "    break\n",
        "  elif palpite < num:\n",
        "    print(\"O número escolhido está muito baixo\")\n",
        "    palpite = int(input(\"Insira um número entre 0 e 9: \"))\n",
        "  else:\n",
        "    print(\"O número escolhido está muito alto\")\n",
        "    palpite = int(input(\"Insira um número entre 0 e 9: \"))\n",
        "else:\n",
        "  print(f\"\\n\\nPARABÉNS!!! \\nO número que você escolheu foi {palpite}, o número sorteado foi {num}.\")\n"
      ],
      "metadata": {
        "id": "qIxNIlgs9zgE",
        "colab": {
          "base_uri": "https://localhost:8080/"
        },
        "outputId": "606fe226-b0ac-490b-b090-5ca73f72b9b6"
      },
      "execution_count": null,
      "outputs": [
        {
          "output_type": "stream",
          "name": "stdout",
          "text": [
            "1\n",
            "Insira um número entre 0 e 9: 2\n",
            "O número escolhido está muito alto\n",
            "Insira um número entre 0 e 9: 0\n",
            "O número escolhido está muito baixo\n",
            "Insira um número entre 0 e 9: 1\n",
            "\n",
            "\n",
            "PARABÉNS!!! \n",
            "O número que você escolheu foi 1, o número sorteado foi 1.\n"
          ]
        }
      ]
    },
    {
      "cell_type": "markdown",
      "source": [
        "#### 7. Faça um programa que calcule o Índice de Massa Corporal (IMC) do usuário e forneça feedback com base no valor (por exemplo, abaixo do peso, peso normal, sobrepeso)."
      ],
      "metadata": {
        "id": "-X2iup1j93ZD"
      }
    },
    {
      "cell_type": "code",
      "source": [
        "#Coleta de informações\n",
        "peso = float(input(\"Por favor informe o seu peso: \"))\n",
        "altura = float(input(\"Por favor informe a sua altura: \"))\n",
        "\n",
        "#Cálculo IMC\n",
        "imc = peso /(altura*altura)\n",
        "\n",
        "#Feedback\n",
        "if imc < 18.5:\n",
        "  print(f\"O seu IMC é de {imc:.2f}. Você está classificado com obesidade grau 0 (MAGREZA)\")\n",
        "elif 18.5 < imc <= 25:\n",
        "  print(f\"O seu IMC é de {imc:.2f}. Você está classificado com obesidade grau 0 (NORMAL)\")\n",
        "elif 25 < imc <= 30:\n",
        "  print(f\"O seu IMC é de {imc:.2f}. Você está classificado com obesidade grau I (SOBREPESO)\")\n",
        "elif 30 < imc <= 40:\n",
        "  print(f\"O seu IMC é de {imc:.2f}. Você está classificado com obesidade grau II (OBESIDADE)\")\n",
        "else:\n",
        "  print(f\"O seu IMC é de {imc:.2f}. Você está classificado com obesidade grau III (OBESIDADE GRAVE)\")\n"
      ],
      "metadata": {
        "id": "m_Smy3c097s3",
        "colab": {
          "base_uri": "https://localhost:8080/"
        },
        "outputId": "3d6d3398-9767-418b-e9ac-c6f2807e9eef"
      },
      "execution_count": null,
      "outputs": [
        {
          "output_type": "stream",
          "name": "stdout",
          "text": [
            "Por favor informe o seu peso: 50\n",
            "Por favor informe a sua altura: 1.55\n",
            "O seu IMC é de 20.81. Você está classificado com obesidade grau 0 (NORMAL)\n"
          ]
        }
      ]
    },
    {
      "cell_type": "markdown",
      "source": [
        "#### 8. Crie um programa que pergunte a idade do usuário e verifique se ele é maior de idade ou não."
      ],
      "metadata": {
        "id": "jWGo1Gly98TG"
      }
    },
    {
      "cell_type": "code",
      "source": [
        "#Idade usuário\n",
        "idade = int(input(\"Informe sua idade: \"))\n",
        "\n",
        "#Verificação\n",
        "if idade < 18:\n",
        "  print(f\"A idade informada foi de {idade} anos. Usuário menor de idade!\")\n",
        "else:\n",
        "  print(f\"A idade informada foi de {idade} anos. Usuário maior de idade!\")"
      ],
      "metadata": {
        "id": "BkHk-quK-CPq",
        "colab": {
          "base_uri": "https://localhost:8080/"
        },
        "outputId": "08422a91-028f-4929-b593-51f8e2d93c62"
      },
      "execution_count": null,
      "outputs": [
        {
          "output_type": "stream",
          "name": "stdout",
          "text": [
            "Informe sua idade: 42\n",
            "A idade informada foi de 42 anos. Usuário maior de idade!\n"
          ]
        }
      ]
    },
    {
      "cell_type": "markdown",
      "source": [
        "#### 9. Desenvolva um programa que aplique descontos diferentes com base no valor da compra: desconto de 10% para compras acima de 100 reais, 15% para compras acima de R$200, etc."
      ],
      "metadata": {
        "id": "YXVC8wCa-Cre"
      }
    },
    {
      "cell_type": "code",
      "source": [
        "#Valor da compra\n",
        "valor_compra = float(input(\"Insira o valor da compra: \"))\n",
        "\n",
        "#Verificação de desconto\n",
        "if 100< valor_compra < 200:\n",
        "  valor_desconto = valor_compra - (valor_compra*0.1)\n",
        "  print(f\"Adquirido desconto de 10%. Valor integral {valor_compra}, valor com desconto [10%]: {valor_desconto:.2f}\")\n",
        "elif valor_compra > 200:\n",
        "  valor_desconto = valor_compra - (valor_compra*0.15)\n",
        "  print(f\"Adquirido desconto de 15%. Valor integral {valor_compra}, valor com desconto [15%]: {valor_desconto:.2f}\")\n",
        "else:\n",
        "  print(\"Valor inapto para desconto!\")"
      ],
      "metadata": {
        "id": "RPBVswlK-GAd",
        "colab": {
          "base_uri": "https://localhost:8080/"
        },
        "outputId": "6778cb2d-1591-4723-9ccd-20245652804b"
      },
      "execution_count": null,
      "outputs": [
        {
          "output_type": "stream",
          "name": "stdout",
          "text": [
            "Insira o valor da compra: 1027.56\n",
            "Adquirido desconto de 15%. Valor integral 1027.56, valor com desconto [15%]: 873.43\n"
          ]
        }
      ]
    },
    {
      "cell_type": "markdown",
      "source": [
        "#### 10. Escreva um programa que combine elementos aleatórios de listas diferentes (personagens, ações, locais) para criar uma história curiosa."
      ],
      "metadata": {
        "id": "b3BzthBP-G-i"
      }
    },
    {
      "cell_type": "code",
      "source": [
        "import random\n",
        "#Criando as listas\n",
        "personagens = [\"Grace Hopper\", \"Mary Allen\", \"Ada Lovelace\", \"Alan Turing\", \"Tommy Flowers\"]\n",
        "acoes = [\"cavalgar\", \"pular\", \"andar\", \"viajar\", \"correr\", \"explorar\", \"nadar\", \"surfar\"]\n",
        "locais = [\"floresta\", \"praia\", \"praça\",\"casa da mãe Joana\",\"escola\",\"festa\",\"rave\",\"igreja\"]\n",
        "\n",
        "#História\n",
        "personagem_escolhido = random.choice(personagens)\n",
        "acao_escolhida = random.choice(acoes)\n",
        "local_escolhido = random.choice(locais)\n",
        "\n",
        "#Simulação\n",
        "print(f\"Um dia {personagem_escolhido}, resolveu {acao_escolhida} na {local_escolhido}\")"
      ],
      "metadata": {
        "id": "0PBSncUL-Kme",
        "colab": {
          "base_uri": "https://localhost:8080/"
        },
        "outputId": "a20c7d6b-912a-47ec-ef6e-f8e18651c189"
      },
      "execution_count": null,
      "outputs": [
        {
          "output_type": "stream",
          "name": "stdout",
          "text": [
            "Um dia Alan Turing, resolveu nadar na casa da mãe Joana\n"
          ]
        }
      ]
    },
    {
      "cell_type": "markdown",
      "source": [
        "#### 11. Faça um programa que simule o lançamento de um dado. O usuário deve escolher quantos dados jogar e o programa deve exibir os resultados."
      ],
      "metadata": {
        "id": "-iVCqn2s-K9P"
      }
    },
    {
      "cell_type": "code",
      "source": [
        "#Escolha número de dados\n",
        "numero_dados = int(input(\"Digite o número de dados que deseja jogar: \"))\n",
        "\n",
        "#Resultado\n",
        "for n in range(1,numero_dados + 1):\n",
        "  resultados = random.randint(1,6)\n",
        "  print(f\"Dado {n} : {resultados}\")"
      ],
      "metadata": {
        "id": "47hNznBu-Ojd",
        "colab": {
          "base_uri": "https://localhost:8080/"
        },
        "outputId": "c453582d-6772-4384-9abf-0a953e40abb6"
      },
      "execution_count": null,
      "outputs": [
        {
          "output_type": "stream",
          "name": "stdout",
          "text": [
            "Digite o número de dados que deseja jogar: 6\n",
            "Dado 1 : 3\n",
            "Dado 2 : 4\n",
            "Dado 3 : 6\n",
            "Dado 4 : 6\n",
            "Dado 5 : 5\n",
            "Dado 6 : 2\n"
          ]
        }
      ]
    },
    {
      "cell_type": "markdown",
      "source": [
        "#### 12. Crie um programa que classifique as palavras inseridas pelo usuário como curtas (menos de 5 letras) ou longas (5 letras ou mais)."
      ],
      "metadata": {
        "id": "xJJLMR-k-PGl"
      }
    },
    {
      "cell_type": "code",
      "source": [
        "#Recebe palavras\n",
        "palavras = input(\"Digite algumas palavras: \\n(Separe por espaço)\").split()\n",
        "\n",
        "#Classifica as palavras\n",
        "print(\"Palavras curtas:\")\n",
        "for palavra in palavras:\n",
        "    if len(palavra) < 5:\n",
        "        print(palavra)\n",
        "\n",
        "print(\"\\nPalavras longas:\")\n",
        "for palavra in palavras:\n",
        "    if len(palavra) >= 5:\n",
        "        print(palavra)"
      ],
      "metadata": {
        "id": "aYSjrZNU-S00",
        "colab": {
          "base_uri": "https://localhost:8080/"
        },
        "outputId": "608f4f4e-9c21-4310-c842-34796a9b6c6f"
      },
      "execution_count": null,
      "outputs": [
        {
          "output_type": "stream",
          "name": "stdout",
          "text": [
            "Digite algumas palavras: \n",
            "(Separe por espaço)programa classificação gato bola você\n",
            "Palavras curtas:\n",
            "gato\n",
            "bola\n",
            "você\n",
            "\n",
            "Palavras longas:\n",
            "programa\n",
            "classificação\n"
          ]
        }
      ]
    },
    {
      "cell_type": "markdown",
      "source": [
        "#### 13. Desenvolva um programa que verifique se uma palavra ou frase inserida pelo usuário é um palíndromo (lê-se igual de trás para frente)."
      ],
      "metadata": {
        "id": "8GNW3wfG-TdF"
      }
    },
    {
      "cell_type": "code",
      "source": [
        "#Recebe palavra ou frase\n",
        "frase = input(\"Digite uma palavra ou frase: \")\n",
        "frase_ajustada = frase.replace(\" \",\"\").lower()\n",
        "\n",
        "#Verificação\n",
        "if frase_ajustada == frase_ajustada[::-1]:\n",
        "  print(f\"A palavra/ frase {frase} é um palídromo!\")\n",
        "else:\n",
        "  print(f\"A palavra/frase {frase} não é um palídromo!\")"
      ],
      "metadata": {
        "id": "6xKczFmg-XRb",
        "colab": {
          "base_uri": "https://localhost:8080/"
        },
        "outputId": "ecbeed0e-df20-45e7-b211-6e502f6d5954"
      },
      "execution_count": null,
      "outputs": [
        {
          "output_type": "stream",
          "name": "stdout",
          "text": [
            "Digite uma palavra ou frase: tenet\n",
            "A palavra/ frase tenet é um palídromo!\n"
          ]
        }
      ]
    },
    {
      "cell_type": "markdown",
      "source": [
        "#### 14. Escreva um programa que permita ao usuário votar em três opções diferentes e, no final, exiba o número de votos de cada opção."
      ],
      "metadata": {
        "id": "GOA8quaf-Xvk"
      }
    },
    {
      "cell_type": "code",
      "source": [
        "#Contador de votos\n",
        "opcao_a = 0\n",
        "opcao_b = 0\n",
        "opcao_c = 0\n",
        "\n",
        "#Menu votos\n",
        "while True:\n",
        "  voto = int(input(\"*****Opções de votos*****\\n 0-Encerrar votação \\n 1- Opção A \\n 2- Opção B \\n 3- Opção C \\n\\nInsira o número do seu voto: \"))\n",
        "\n",
        "  if voto == 0:\n",
        "    break\n",
        "  elif voto == 1:\n",
        "    opcao_a += 1\n",
        "  elif voto == 2:\n",
        "    opcao_b += 1\n",
        "  elif voto == 3:\n",
        "    opcao_c += 1\n",
        "  else:\n",
        "    print(\"\\n\\n\\nInsira uma opção válida!\\n\\n\\n\")\n",
        "\n",
        "print(f\"\\n\\n\\n    RESULTADOS     \\nOpção A = {opcao_a}\\nOpção B = {opcao_b}\\nOpção C = {opcao_c}\")"
      ],
      "metadata": {
        "id": "iGIzpzUI-awW",
        "colab": {
          "base_uri": "https://localhost:8080/"
        },
        "outputId": "3fde513b-7b5b-4fa3-f08f-4778d684cb9c"
      },
      "execution_count": null,
      "outputs": [
        {
          "output_type": "stream",
          "name": "stdout",
          "text": [
            "*****Opções de votos*****\n",
            " 0-Encerrar votação \n",
            " 1- Opção A \n",
            " 2- Opção B \n",
            " 3- Opção C \n",
            "\n",
            "Insira o número do seu voto: 1\n",
            "*****Opções de votos*****\n",
            " 0-Encerrar votação \n",
            " 1- Opção A \n",
            " 2- Opção B \n",
            " 3- Opção C \n",
            "\n",
            "Insira o número do seu voto: 1\n",
            "*****Opções de votos*****\n",
            " 0-Encerrar votação \n",
            " 1- Opção A \n",
            " 2- Opção B \n",
            " 3- Opção C \n",
            "\n",
            "Insira o número do seu voto: 1\n",
            "*****Opções de votos*****\n",
            " 0-Encerrar votação \n",
            " 1- Opção A \n",
            " 2- Opção B \n",
            " 3- Opção C \n",
            "\n",
            "Insira o número do seu voto: 1\n",
            "*****Opções de votos*****\n",
            " 0-Encerrar votação \n",
            " 1- Opção A \n",
            " 2- Opção B \n",
            " 3- Opção C \n",
            "\n",
            "Insira o número do seu voto: 1\n",
            "*****Opções de votos*****\n",
            " 0-Encerrar votação \n",
            " 1- Opção A \n",
            " 2- Opção B \n",
            " 3- Opção C \n",
            "\n",
            "Insira o número do seu voto: 2\n",
            "*****Opções de votos*****\n",
            " 0-Encerrar votação \n",
            " 1- Opção A \n",
            " 2- Opção B \n",
            " 3- Opção C \n",
            "\n",
            "Insira o número do seu voto: 1\n",
            "*****Opções de votos*****\n",
            " 0-Encerrar votação \n",
            " 1- Opção A \n",
            " 2- Opção B \n",
            " 3- Opção C \n",
            "\n",
            "Insira o número do seu voto: 2\n",
            "*****Opções de votos*****\n",
            " 0-Encerrar votação \n",
            " 1- Opção A \n",
            " 2- Opção B \n",
            " 3- Opção C \n",
            "\n",
            "Insira o número do seu voto: 1\n",
            "*****Opções de votos*****\n",
            " 0-Encerrar votação \n",
            " 1- Opção A \n",
            " 2- Opção B \n",
            " 3- Opção C \n",
            "\n",
            "Insira o número do seu voto: 2\n",
            "*****Opções de votos*****\n",
            " 0-Encerrar votação \n",
            " 1- Opção A \n",
            " 2- Opção B \n",
            " 3- Opção C \n",
            "\n",
            "Insira o número do seu voto: 3\n",
            "*****Opções de votos*****\n",
            " 0-Encerrar votação \n",
            " 1- Opção A \n",
            " 2- Opção B \n",
            " 3- Opção C \n",
            "\n",
            "Insira o número do seu voto: 3\n",
            "*****Opções de votos*****\n",
            " 0-Encerrar votação \n",
            " 1- Opção A \n",
            " 2- Opção B \n",
            " 3- Opção C \n",
            "\n",
            "Insira o número do seu voto: 3\n",
            "*****Opções de votos*****\n",
            " 0-Encerrar votação \n",
            " 1- Opção A \n",
            " 2- Opção B \n",
            " 3- Opção C \n",
            "\n",
            "Insira o número do seu voto: 2\n",
            "*****Opções de votos*****\n",
            " 0-Encerrar votação \n",
            " 1- Opção A \n",
            " 2- Opção B \n",
            " 3- Opção C \n",
            "\n",
            "Insira o número do seu voto: 1\n",
            "*****Opções de votos*****\n",
            " 0-Encerrar votação \n",
            " 1- Opção A \n",
            " 2- Opção B \n",
            " 3- Opção C \n",
            "\n",
            "Insira o número do seu voto: 2\n",
            "*****Opções de votos*****\n",
            " 0-Encerrar votação \n",
            " 1- Opção A \n",
            " 2- Opção B \n",
            " 3- Opção C \n",
            "\n",
            "Insira o número do seu voto: 3\n",
            "*****Opções de votos*****\n",
            " 0-Encerrar votação \n",
            " 1- Opção A \n",
            " 2- Opção B \n",
            " 3- Opção C \n",
            "\n",
            "Insira o número do seu voto: 4\n",
            "\n",
            "\n",
            "\n",
            "Insira uma opção válida!\n",
            "\n",
            "\n",
            "\n",
            "*****Opções de votos*****\n",
            " 0-Encerrar votação \n",
            " 1- Opção A \n",
            " 2- Opção B \n",
            " 3- Opção C \n",
            "\n",
            "Insira o número do seu voto: 2\n",
            "*****Opções de votos*****\n",
            " 0-Encerrar votação \n",
            " 1- Opção A \n",
            " 2- Opção B \n",
            " 3- Opção C \n",
            "\n",
            "Insira o número do seu voto: 2\n",
            "*****Opções de votos*****\n",
            " 0-Encerrar votação \n",
            " 1- Opção A \n",
            " 2- Opção B \n",
            " 3- Opção C \n",
            "\n",
            "Insira o número do seu voto: 1\n",
            "*****Opções de votos*****\n",
            " 0-Encerrar votação \n",
            " 1- Opção A \n",
            " 2- Opção B \n",
            " 3- Opção C \n",
            "\n",
            "Insira o número do seu voto: 0\n",
            "\n",
            "\n",
            "\n",
            "    RESULTADOS     \n",
            "Opção A = 9\n",
            "Opção B = 7\n",
            "Opção C = 4\n"
          ]
        }
      ]
    },
    {
      "cell_type": "markdown",
      "source": [
        "#### 15. Crie um programa que apresente ao usuário uma série de escolhas (como em uma história) e conduza a diferentes resultados com base nessas escolhas."
      ],
      "metadata": {
        "id": "bdSUcB_x-bLh"
      }
    },
    {
      "cell_type": "code",
      "source": [
        "print(\"Bem-vindo ao jogo de escolhas, cada opção selecionada o levará a um final diferente!\\n\")\n",
        "\n",
        "print(\"Você está caminhando por uma trilha misteriosa na floresta. De repente, você se depara com três caminhos diferentes. Qual você escolhe?\")\n",
        "opcao_1 = int(input(\"1. Siga o caminho iluminado por lanternas mágicas. \\n2. Entre em uma ponte estreita sobre um rio encantado. \\n3. Explore uma caverna escura e misteriosa.\\nEscolha uma opção: \"))\n",
        "\n",
        "if opcao_1 == 1:\n",
        "    print(\"\\nVocê escolheu seguir o caminho iluminado por lanternas mágicas. Ao longo do caminho, você encontra uma festa mágica acontecendo.\\nO que você faz?\")\n",
        "    opcao_1_1 = int(input(\"1. Junte-se à festa mágica. \\n2. Continue seguindo em frente. \\n3. Retorne ao caminho original. \\nEscolha uma opção:\"))\n",
        "\n",
        "    if opcao_1_1 == 1:\n",
        "        print(\"\\nVocê escolheu juntar-se à festa mágica. \\nVocê se diverte muito e faz novos amigos.\")\n",
        "    elif opcao_1_1 == 2:\n",
        "        print(\"\\nVocê escolheu continuar seguindo em frente. \\nVocê encontra um misterioso espírito da floresta que lhe concede um desejo.\")\n",
        "    else:\n",
        "        print(\"\\nVocê escolheu retornar ao caminho original. \\nAo retornar, você descobre que a trilha mudou completamente.\")\n",
        "\n",
        "elif opcao_1 == 2:\n",
        "    print(\"\\nVocê escolheu entrar na ponte estreita sobre o rio encantado. Durante a travessia, você encontra um espírito do rio. O que você faz? \\n\")\n",
        "    opcao_1_2 = int(input(\"1. Ofereça-lhe um presente. \\n2. Ignore-o e continue a travessia. \\n3. Corra de volta para o início da ponte. \\nEscolha uma opção:\"))\n",
        "\n",
        "    if opcao_1_2 == 1:\n",
        "        print(\"\\nVocê escolheu oferecer um presente ao espírito do rio. Ele fica satisfeito e lhe dá uma passagem segura.\")\n",
        "    elif opcao_1_2 == 2:\n",
        "        print(\"\\nVocê escolheu ignorar o espírito do rio. Ele fica furioso e causa uma tempestade.\")\n",
        "    else:\n",
        "        print(\"\\nVocê escolheu correr de volta para o início da ponte. A ponte desmorona enquanto você corre, mas você consegue voltar em segurança.\")\n",
        "\n",
        "else:\n",
        "    print(\"\\nVocê escolheu explorar a caverna escura e misteriosa. Dentro da caverna, você encontra três portas misteriosas. Qual porta você escolhe?\")\n",
        "    opcao_1_3 = int(input(\"1. Porta vermelha. \\n2. Porta azul. \\n3. Porta verde. \\nEscolha uma opção:\"))\n",
        "\n",
        "    if opcao_1_3 == 1:\n",
        "        print(\"\\nVocê escolheu a porta vermelha. A porta leva a um tesouro escondido.\")\n",
        "    elif opcao_1_3 == 2:\n",
        "        print(\"\\nVocê escolheu a porta azul. A porta leva a uma sala vazia.\")\n",
        "    else:\n",
        "        print(\"\\nVocê escolheu a porta verde.A porta leva a uma passagem secreta para fora da caverna.\")\n",
        "\n",
        "print(\"\\nFim da aventura. Espero que tenha gostado da sua jornada!\")"
      ],
      "metadata": {
        "id": "e-ho39---eQm",
        "colab": {
          "base_uri": "https://localhost:8080/"
        },
        "outputId": "7b1bb3c4-ae85-4a5c-f0d2-d61f1a049ad5"
      },
      "execution_count": null,
      "outputs": [
        {
          "output_type": "stream",
          "name": "stdout",
          "text": [
            "Bem-vindo ao jogo de escolhas, cada opção selecionada o levará a um final diferente!\n",
            "\n",
            "Você está caminhando por uma trilha misteriosa na floresta. De repente, você se depara com três caminhos diferentes. Qual você escolhe?\n",
            "1. Siga o caminho iluminado por lanternas mágicas. \n",
            "2. Entre em uma ponte estreita sobre um rio encantado. \n",
            "3. Explore uma caverna escura e misteriosa.\n",
            "Escolha uma opção: 2\n",
            "\n",
            "Você escolheu entrar na ponte estreita sobre o rio encantado. Durante a travessia, você encontra um espírito do rio. O que você faz? \n",
            "\n",
            "1. Ofereça-lhe um presente. \n",
            "2. Ignore-o e continue a travessia. \n",
            "3. Corra de volta para o início da ponte. \n",
            "Escolha uma opção:2\n",
            "\n",
            "Você escolheu ignorar o espírito do rio. Ele fica furioso e causa uma tempestade.\n",
            "\n",
            "Fim da aventura. Espero que tenha gostado da sua jornada!\n"
          ]
        }
      ]
    }
  ]
}