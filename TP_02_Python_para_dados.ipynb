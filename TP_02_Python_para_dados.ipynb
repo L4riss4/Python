{
  "nbformat": 4,
  "nbformat_minor": 0,
  "metadata": {
    "colab": {
      "provenance": [],
      "authorship_tag": "ABX9TyONxX8bjroqjHQje8jFXotR",
      "include_colab_link": true
    },
    "kernelspec": {
      "name": "python3",
      "display_name": "Python 3"
    },
    "language_info": {
      "name": "python"
    }
  },
  "cells": [
    {
      "cell_type": "markdown",
      "metadata": {
        "id": "view-in-github",
        "colab_type": "text"
      },
      "source": [
        "<a href=\"https://colab.research.google.com/github/L4riss4/Python/blob/main/TP_02_Python_para_dados.ipynb\" target=\"_parent\"><img src=\"https://colab.research.google.com/assets/colab-badge.svg\" alt=\"Open In Colab\"/></a>"
      ]
    },
    {
      "cell_type": "code",
      "execution_count": null,
      "metadata": {
        "id": "YUeM-sO-2QwR",
        "collapsed": true
      },
      "outputs": [],
      "source": [
        "import pandas as pd\n",
        "import json\n",
        "import datetime\n",
        "import os\n",
        "\n",
        "#Função de leitura de arquivo\n",
        "\n",
        "def ler_arquivo_csv(nome_arquivo):\n",
        "  print(f\"Tabela do arquivo: {nome_arquivo} \\n\\n\")\n",
        "  df = pd.read_csv(nome_arquivo, sep=\";\")\n",
        "  tabela = df.to_string(index=False)\n",
        "\n",
        "  return print(f\"{tabela}\\n\")\n",
        "\n",
        "#Função busca do aluno pelo ra ou nome\n",
        "\n",
        "def busca_aluno(aluno, is_ra = False):\n",
        "  db_alunos = pd.read_csv('base_alunos.csv', sep=';')\n",
        "  alunos_informacoes = None\n",
        "\n",
        "  if is_ra:\n",
        "    alunos_informacoes = db_alunos[db_alunos['num_ra'] == aluno]\n",
        "  else:\n",
        "    alunos_informacoes = db_alunos[db_alunos['nome'] == aluno]\n",
        "\n",
        "  alunos_informacoes = alunos_informacoes.iloc[0]\n",
        "  aluno_retorno = {\n",
        "      \"Registro\" : int(alunos_informacoes['num_ra']),\n",
        "      \"Nome\" : alunos_informacoes.get('nome', ''),\n",
        "      \"Curso\" : alunos_informacoes.get('curso', ''),\n",
        "      \"Semestre\" : int(alunos_informacoes.get('semestre', 0)),\n",
        "      \"Livros\" : {\n",
        "          \"Livro 1\" : alunos_informacoes.get('livro_1', ''),\n",
        "          \"Livro 2\" : alunos_informacoes.get('livro_2', ''),\n",
        "          \"Livro 3\" : alunos_informacoes.get('livro_3', '')\n",
        "      }\n",
        "  }\n",
        "  aluno_json = json.dumps(aluno_retorno, indent=1)\n",
        "  print(aluno_json)\n",
        "\n",
        "  return aluno_retorno\n",
        "\n",
        "#Função salvamento de objeto JSON\n",
        "\n",
        "def salva_obj (obj_json, caminho, nome_arquivo = None):\n",
        "  if nome_arquivo is None:\n",
        "      agora = datetime.now()\n",
        "      nome_arquivo = agora.strftime(\"%Y%m%d_%H%M%S\") + \".json\"\n",
        "\n",
        "  caminho_arquivo = os.path.join(caminho, nome_arquivo)\n",
        "\n",
        "  with open(caminho_arquivo, 'w', encoding='utf-8') as f:\n",
        "    json.dump(obj_json, f, ensure_ascii=True, indent=2)\n",
        "  return {\"success\": f\"Arquivo salvo com sucesso em: {caminho_arquivo}\"}\n",
        "\n",
        "#Função de busca de livro por título ou ID\n",
        "\n",
        "def busca_livro(livro, is_id= False):\n",
        "  db_livros = pd.read_csv('base_livros.csv', sep=';')\n",
        "  livros_informacoes = None\n",
        "  resultados = []\n",
        "  livros = {}\n",
        "\n",
        "  if is_id:\n",
        "    livros_informacoes = db_livros[db_livros['codigo'] == livro]\n",
        "    if livros_informacoes.empty:\n",
        "        return json.dumps({\"error\": \"Livro não encontrado pelo ID.\"})\n",
        "\n",
        "    for index, row in livros_informacoes.iterrows():\n",
        "        livro_retorno = {\n",
        "            \"registro\": int(row['codigo']),\n",
        "            \"titulo\": row.get('titulo', ''),\n",
        "            \"autores\": row.get('autores', '').split(';'),\n",
        "            \"volume\": int(row.get('volume', 0)),\n",
        "            \"aluno\": row.get('aluno', '')\n",
        "        }\n",
        "        resultados.append(livro_retorno)\n",
        "\n",
        "    resultado_json = json.dumps(resultados, indent=2)\n",
        "    print(resultado_json)\n",
        "    return livro_retorno\n",
        "\n",
        "  else:\n",
        "    livros_informacoes = db_livros[db_livros['titulo'].str.contains(livro)]\n",
        "    if livros_informacoes.empty:\n",
        "        return json.dumps({\"error\": \"Livro não encontrado pelo nome.\"})\n",
        "\n",
        "    registros_encontrados = len(livros_informacoes)\n",
        "    for index, row in livros_informacoes.iterrows():\n",
        "        livro_indice = f\"livro_{index + 1}\"\n",
        "        livros[livro_indice] = {\n",
        "            \"registro\": int(row['codigo']),\n",
        "            \"titulo\": row.get('titulo', ''),\n",
        "            \"autores\": row.get('autores', '').split(';'),\n",
        "            \"volume\": int(row.get('volume', 0)),\n",
        "            \"aluno\": row.get('aluno', '')\n",
        "        }\n",
        "\n",
        "    livros_retorno = {\n",
        "        \"registros_encontrados\": registros_encontrados,\n",
        "        \"livros\": livros\n",
        "    }\n",
        "\n",
        "    resultado_json = json.dumps(livros_retorno, indent=2)\n",
        "    #print(resultado_json)\n",
        "\n",
        "    return resultado_json"
      ]
    },
    {
      "cell_type": "code",
      "source": [
        "base_alunos = ler_arquivo_csv(\"base_alunos.csv\")\n",
        "base_livros = ler_arquivo_csv(\"base_livros.csv\")"
      ],
      "metadata": {
        "colab": {
          "base_uri": "https://localhost:8080/"
        },
        "id": "blWTZLJT3CDh",
        "outputId": "8126209e-71d7-4a71-ffa1-a2b6f50c6df3",
        "collapsed": true
      },
      "execution_count": null,
      "outputs": [
        {
          "output_type": "stream",
          "name": "stdout",
          "text": [
            "Tabela do arquivo: base_alunos.csv \n",
            "\n",
            "\n",
            " num_ra             nome       curso  semestre               livro_1                         livro_2                         livro_3\n",
            "      1       Joao Silva  Engenharia         1             Calculo I                        Mecanica                   Microeconomia\n",
            "      2     Maria Santos     Direito         2 Introducao ao Direito          Introdução à Filosofia                Filosofia Antiga\n",
            "      3  Carlos Oliveira    Medicina         3       Anatomia Humana                        Genetica Fundamentos da Biologia Celular\n",
            "      4        Ana Costa Arquitetura         4 Desenho Arquitetonico           Introdução à Economia           A Origem das Espécies\n",
            "      5       Pedro Lima  Computacao         5             Calculo I                      Algoritmos          Matemática para Leigos\n",
            "      6    Lucas Almeida    Economia         6         Microeconomia           Introdução à Economia               O Poder do Hábito\n",
            "      7 Fernanda Pereira    Biologia         7 A Origem das Espécies Fundamentos da Biologia Celular          Fundamentos de Química\n",
            "      8    Ricardo Souza    Historia         8    Historia do Brasil                Filosofia Antiga                A Arte da Guerra\n",
            "      9   Patricia Rocha   Filosofia         9      A Arte da Guerra                Filosofia Antiga          Introdução à Filosofia\n",
            "     10   Gabriel Mendes      Fisica        10             Calculo I          Matemática para Leigos                      Algoritmos\n",
            "\n",
            "Tabela do arquivo: base_livros.csv \n",
            "\n",
            "\n",
            " id  codigo                          titulo            autores  volume            aluno\n",
            "  1      50                       Calculo I      James Stewart       1       Joao Silva\n",
            "  2     130           Introducao ao Direito        Paulo Nader       1     Maria Santos\n",
            "  3      40                 Anatomia Humana         Henry Gray       1  Carlos Oliveira\n",
            "  4      60           Desenho Arquitetonico        Frank Ching       1        Ana Costa\n",
            "  5      30                      Algoritmos   Thomas H. Cormen       1   Gabriel Mendes\n",
            "  6     160                   Microeconomia  Robert S. Pindyck       1       Joao Silva\n",
            "  7      90                        Genetica   Peter J. Russell       1  Carlos Oliveira\n",
            "  8      10                A Arte da Guerra            Sun Tzu       1   Patricia Rocha\n",
            "  9      70                Filosofia Antiga     Giovanni Reale       1     Maria Santos\n",
            " 10     150                        Mecanica        David Morin       1       Joao Silva\n",
            " 11      20           A Origem das Espécies     Charles Darwin       1        Ana Costa\n",
            " 12     110           Introdução à Economia  N. Gregory Mankiw       1        Ana Costa\n",
            " 13      90          Fundamentos de Química       John McMurry       1 Fernanda Pereira\n",
            " 14      11                A Arte da Guerra            Sun Tzu       1    Ricardo Souza\n",
            " 15     140          Matemática para Leigos Mary Jane Sterling       1   Gabriel Mendes\n",
            " 16     120          Introdução à Filosofia  Robert C. Solomon       1     Maria Santos\n",
            " 17     170               O Poder do Hábito     Charles Duhigg       1    Lucas Almeida\n",
            " 18      80 Fundamentos da Biologia Celular            Alberts       1  Carlos Oliveira\n",
            " 19      21           A Origem das Espécies     Charles Darwin       1 Fernanda Pereira\n",
            " 20     111           Introdução à Economia  N. Gregory Mankiw       1    Lucas Almeida\n",
            " 21      81 Fundamentos da Biologia Celular            Alberts       1 Fernanda Pereira\n",
            " 22      51                       Calculo I      James Stewart       1   Gabriel Mendes\n",
            " 23      52                       Calculo I      James Stewart       1       Pedro Lima\n",
            " 24     161                   Microeconomia  Robert S. Pindyck       1    Lucas Almeida\n",
            " 25      71                Filosofia Antiga     Giovanni Reale       1   Patricia Rocha\n",
            " 26     121          Introdução à Filosofia  Robert C. Solomon       1   Patricia Rocha\n",
            " 27     141          Matemática para Leigos Mary Jane Sterling       1       Pedro Lima\n",
            " 28      31                      Algoritmos   Thomas H. Cormen       1       Pedro Lima\n",
            " 29     100              Historia do Brasil       Boris Fausto       1    Ricardo Souza\n",
            " 30      72                Filosofia Antiga     Giovanni Reale       1    Ricardo Souza\n",
            "\n"
          ]
        }
      ]
    },
    {
      "cell_type": "code",
      "source": [
        "resultado = busca_aluno(3, is_ra=True)"
      ],
      "metadata": {
        "colab": {
          "base_uri": "https://localhost:8080/"
        },
        "collapsed": true,
        "id": "k5PugozBN1-i",
        "outputId": "6970c31f-19f3-4076-a84d-368ffc4e7ac0"
      },
      "execution_count": null,
      "outputs": [
        {
          "output_type": "stream",
          "name": "stdout",
          "text": [
            "{\n",
            " \"Registro\": 3,\n",
            " \"Nome\": \"Carlos Oliveira\",\n",
            " \"Curso\": \"Medicina\",\n",
            " \"Semestre\": 3,\n",
            " \"Livros\": {\n",
            "  \"Livro 1\": \"Anatomia Humana\",\n",
            "  \"Livro 2\": \"Genetica\",\n",
            "  \"Livro 3\": \"Fundamentos da Biologia Celular\"\n",
            " }\n",
            "}\n"
          ]
        }
      ]
    },
    {
      "cell_type": "code",
      "source": [
        "busca_livro(100, is_id= True)\n",
        "busca_livro('Calculo I')"
      ],
      "metadata": {
        "colab": {
          "base_uri": "https://localhost:8080/",
          "height": 91
        },
        "id": "vesVUr7554sn",
        "outputId": "9c02d801-35c1-4692-9908-1e0e22802185"
      },
      "execution_count": null,
      "outputs": [
        {
          "output_type": "execute_result",
          "data": {
            "text/plain": [
              "'{\\n  \"registros_encontrados\": 3,\\n  \"livros\": {\\n    \"livro_1\": {\\n      \"registro\": 50,\\n      \"titulo\": \"Calculo I\",\\n      \"autores\": [\\n        \"James Stewart\"\\n      ],\\n      \"volume\": 1,\\n      \"aluno\": \"Joao Silva\"\\n    },\\n    \"livro_22\": {\\n      \"registro\": 51,\\n      \"titulo\": \"Calculo I\",\\n      \"autores\": [\\n        \"James Stewart\"\\n      ],\\n      \"volume\": 1,\\n      \"aluno\": \"Gabriel Mendes\"\\n    },\\n    \"livro_23\": {\\n      \"registro\": 52,\\n      \"titulo\": \"Calculo I\",\\n      \"autores\": [\\n        \"James Stewart\"\\n      ],\\n      \"volume\": 1,\\n      \"aluno\": \"Pedro Lima\"\\n    }\\n  }\\n}'"
            ],
            "application/vnd.google.colaboratory.intrinsic+json": {
              "type": "string"
            }
          },
          "metadata": {},
          "execution_count": 72
        }
      ]
    },
    {
      "cell_type": "code",
      "source": [
        "#Abrir arquivo .py no desktop\n",
        "salva_obj(resultado, caminho=\"C:/Users/laris/Downloads\", nome_arquivo=\"Teste.json\")"
      ],
      "metadata": {
        "colab": {
          "base_uri": "https://localhost:8080/",
          "height": 277
        },
        "collapsed": true,
        "id": "hFNQecjFxpwn",
        "outputId": "6377c1ae-4aba-4cb9-921d-a0d1e7ad8a1c"
      },
      "execution_count": null,
      "outputs": [
        {
          "output_type": "error",
          "ename": "FileNotFoundError",
          "evalue": "[Errno 2] No such file or directory: 'C:/Users/laris/Downloads/Teste.json'",
          "traceback": [
            "\u001b[0;31m---------------------------------------------------------------------------\u001b[0m",
            "\u001b[0;31mFileNotFoundError\u001b[0m                         Traceback (most recent call last)",
            "\u001b[0;32m<ipython-input-38-ccf0ae35d8ac>\u001b[0m in \u001b[0;36m<cell line: 1>\u001b[0;34m()\u001b[0m\n\u001b[0;32m----> 1\u001b[0;31m \u001b[0msalva_obj\u001b[0m\u001b[0;34m(\u001b[0m\u001b[0mresultado\u001b[0m\u001b[0;34m,\u001b[0m \u001b[0mcaminho\u001b[0m\u001b[0;34m=\u001b[0m\u001b[0;34m\"C:/Users/laris/Downloads\"\u001b[0m\u001b[0;34m,\u001b[0m \u001b[0mnome_arquivo\u001b[0m\u001b[0;34m=\u001b[0m\u001b[0;34m\"Teste.json\"\u001b[0m\u001b[0;34m)\u001b[0m\u001b[0;34m\u001b[0m\u001b[0;34m\u001b[0m\u001b[0m\n\u001b[0m",
            "\u001b[0;32m<ipython-input-37-89196100965a>\u001b[0m in \u001b[0;36msalva_obj\u001b[0;34m(obj_json, caminho, nome_arquivo)\u001b[0m\n\u001b[1;32m     49\u001b[0m   \u001b[0mcaminho_arquivo\u001b[0m \u001b[0;34m=\u001b[0m \u001b[0mos\u001b[0m\u001b[0;34m.\u001b[0m\u001b[0mpath\u001b[0m\u001b[0;34m.\u001b[0m\u001b[0mjoin\u001b[0m\u001b[0;34m(\u001b[0m\u001b[0mcaminho\u001b[0m\u001b[0;34m,\u001b[0m \u001b[0mnome_arquivo\u001b[0m\u001b[0;34m)\u001b[0m\u001b[0;34m\u001b[0m\u001b[0;34m\u001b[0m\u001b[0m\n\u001b[1;32m     50\u001b[0m \u001b[0;34m\u001b[0m\u001b[0m\n\u001b[0;32m---> 51\u001b[0;31m   \u001b[0;32mwith\u001b[0m \u001b[0mopen\u001b[0m\u001b[0;34m(\u001b[0m\u001b[0mcaminho_arquivo\u001b[0m\u001b[0;34m,\u001b[0m \u001b[0;34m'w'\u001b[0m\u001b[0;34m,\u001b[0m \u001b[0mencoding\u001b[0m\u001b[0;34m=\u001b[0m\u001b[0;34m'utf-8'\u001b[0m\u001b[0;34m)\u001b[0m \u001b[0;32mas\u001b[0m \u001b[0mf\u001b[0m\u001b[0;34m:\u001b[0m\u001b[0;34m\u001b[0m\u001b[0;34m\u001b[0m\u001b[0m\n\u001b[0m\u001b[1;32m     52\u001b[0m     \u001b[0mjson\u001b[0m\u001b[0;34m.\u001b[0m\u001b[0mdump\u001b[0m\u001b[0;34m(\u001b[0m\u001b[0mobj_json\u001b[0m\u001b[0;34m,\u001b[0m \u001b[0mf\u001b[0m\u001b[0;34m,\u001b[0m \u001b[0mensure_ascii\u001b[0m\u001b[0;34m=\u001b[0m\u001b[0;32mTrue\u001b[0m\u001b[0;34m,\u001b[0m \u001b[0mindent\u001b[0m\u001b[0;34m=\u001b[0m\u001b[0;36m2\u001b[0m\u001b[0;34m)\u001b[0m\u001b[0;34m\u001b[0m\u001b[0;34m\u001b[0m\u001b[0m\n\u001b[1;32m     53\u001b[0m   \u001b[0;32mreturn\u001b[0m \u001b[0;34m{\u001b[0m\u001b[0;34m\"success\"\u001b[0m\u001b[0;34m:\u001b[0m \u001b[0;34mf\"Arquivo salvo com sucesso em: {caminho_arquivo}\"\u001b[0m\u001b[0;34m}\u001b[0m\u001b[0;34m\u001b[0m\u001b[0;34m\u001b[0m\u001b[0m\n",
            "\u001b[0;31mFileNotFoundError\u001b[0m: [Errno 2] No such file or directory: 'C:/Users/laris/Downloads/Teste.json'"
          ]
        }
      ]
    }
  ]
}