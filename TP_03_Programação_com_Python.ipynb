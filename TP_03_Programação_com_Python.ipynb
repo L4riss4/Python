{
  "nbformat": 4,
  "nbformat_minor": 0,
  "metadata": {
    "colab": {
      "provenance": [],
      "authorship_tag": "ABX9TyPEDz+6qcbN8bNf5AXOI39Y",
      "include_colab_link": true
    },
    "kernelspec": {
      "name": "python3",
      "display_name": "Python 3"
    },
    "language_info": {
      "name": "python"
    }
  },
  "cells": [
    {
      "cell_type": "markdown",
      "metadata": {
        "id": "view-in-github",
        "colab_type": "text"
      },
      "source": [
        "<a href=\"https://colab.research.google.com/github/L4riss4/Python/blob/main/TP_03_Programa%C3%A7%C3%A3o_com_Python.ipynb\" target=\"_parent\"><img src=\"https://colab.research.google.com/assets/colab-badge.svg\" alt=\"Open In Colab\"/></a>"
      ]
    },
    {
      "cell_type": "markdown",
      "source": [
        "#Cadastro de usuários e busca\n",
        "Resolução de atividade proposta para avaliação de tp 03"
      ],
      "metadata": {
        "id": "dGJyAoeJ6DOq"
      }
    },
    {
      "cell_type": "markdown",
      "source": [
        "##Criação de funções individualmente"
      ],
      "metadata": {
        "id": "a8kPaq-UbBXJ"
      }
    },
    {
      "cell_type": "markdown",
      "source": [
        "Construa uma função que solicite ao usuário a inserir nome e sobrenome e retorne em um vetor com duas posições e com as iniciais em maiúsculo"
      ],
      "metadata": {
        "id": "sWlDFJnB6SCv"
      }
    },
    {
      "cell_type": "code",
      "execution_count": null,
      "metadata": {
        "id": "BE8jF8Qo5__T"
      },
      "outputs": [],
      "source": [
        "def nome_completo():\n",
        "  nome = str(input(\"Digite seu nome completo: \"))\n",
        "  nome = nome.title()\n",
        "  nome_sobrenome = nome.split(sep = None, maxsplit = 1)\n",
        "  return nome_sobrenome\n",
        "#nome_completo()"
      ]
    },
    {
      "cell_type": "markdown",
      "source": [
        "Construa uma função que receba como entrada um endereço de email e retorne o valor booleano verdadeiro para o caso de um email válido ou falso para um endereço inválido. Para avaliar a validade, ele deverá ter a seguinte estrutura: nome@server.com , sendo que nome poderá ser qualquer estrutura composta apenas por letras, não sendo permitido o uso de caracteres especiais, enquanto que server.com poderá ser qualquer valor com estrutura separada por ponto."
      ],
      "metadata": {
        "id": "9uPyQvjs_c90"
      }
    },
    {
      "cell_type": "code",
      "source": [
        "import re\n",
        "def validar_email():\n",
        "  while True:\n",
        "    email = input(\"Digite um endereço de email: \")\n",
        "    regex = r\"[A-Za-z]+@[A-Za-z0-9]+\\.[A-Za-z0-9]+\"\n",
        "    if re.fullmatch(regex,email):\n",
        "      return email\n",
        "    else:\n",
        "      return False\n",
        "\n",
        "#email_valido = validar_email()\n",
        "#print(f\"Email válido: {email_valido}\")"
      ],
      "metadata": {
        "id": "XWkcJz0T_gQ8"
      },
      "execution_count": null,
      "outputs": []
    },
    {
      "cell_type": "markdown",
      "source": [
        "Construa uma função que solicite um endereço de email e retorne esse valor apenas se o endereço for válido. Para o caso do valor informado ser inválido, deverá ser apresentada duas opções ao usuário: tentar novamente ou cancelar. Para o caso de cancelamento, a função deverá retornar o valor False."
      ],
      "metadata": {
        "id": "Y52pBFPAH94p"
      }
    },
    {
      "cell_type": "code",
      "source": [
        "def validar_email():\n",
        "  while True:\n",
        "    email = input(\"Digite um endereço de email: \")\n",
        "    regex = r\"[A-Za-z]+@[A-Za-z0-9]+\\.[A-Za-z0-9]+\"\n",
        "    if re.fullmatch(regex,email):\n",
        "      return email\n",
        "    else:\n",
        "      print(\"Email inválido!\")\n",
        "      correcao = int(input(\"\\nDeseja corrigir endereço de email? \\n\\n1-Tentar Novamente \\n2-Cancelar \\n\"))\n",
        "      if correcao != 1:\n",
        "        print(\"operação cancelada!\")\n",
        "        return False\n",
        "\n",
        "#email_valido = validar_email()\n",
        "#print(f\"Email válido: {email_valido}\")"
      ],
      "metadata": {
        "id": "2ihm9g5hIEig"
      },
      "execution_count": null,
      "outputs": []
    },
    {
      "cell_type": "markdown",
      "source": [
        "Construa uma função que realize uma busca por nome ou sobrenome em um vetor de vetores de nomes que tenha a estrutura apresentada na questão 1. A função deve receber como passagem o vetor onde são armazenados os vetores de nome, o nome a ser buscado e uma opção de busca por sobrenome, cujo valor padrão seja sobrenome=False. O retorno deve ser um vetor contendo os índices de todas as posições onde os valores foram encontrados, conforme o exemplo:"
      ],
      "metadata": {
        "id": "AvcVWrqXNbc1"
      }
    },
    {
      "cell_type": "code",
      "source": [
        "vetor_nomes = [[\"Maria\",\"Silva\"],[\"José\",\"Silva\"],[\"José\",\"Santos\"],[\"André\",\"Oliveira\"]]\n",
        "\n",
        "def busca_nomes(vetor, nome, sobrenome=False):\n",
        "    encontrados = []\n",
        "    for indice, vetor_nome in enumerate(vetor):\n",
        "        if nome:\n",
        "            if nome == vetor_nome[0]:\n",
        "                encontrados.append(indice)\n",
        "        elif sobrenome:\n",
        "            if sobrenome == vetor_nome[1]:\n",
        "                encontrados.append(indice)\n",
        "    return encontrados\n",
        "\n",
        "tipo_busca = int(input(\"Deseja buscar o nome por:\\n1-Nome\\n2-Sobrenome\\n\"))\n",
        "resultado_procura = None\n",
        "\n",
        "if tipo_busca == 1:\n",
        "    nome_procurado = input(\"Insira o nome a ser procurado: \")\n",
        "    resultado_procura = busca_nomes(vetor_nomes, nome_procurado)\n",
        "elif tipo_busca == 2:\n",
        "    sobrenome_procurado = input(\"Insira o sobrenome a ser procurado: \")\n",
        "    resultado_procura = busca_nomes(vetor_nomes, nome = False, sobrenome = sobrenome_procurado)\n",
        "else:\n",
        "    print(\"\\nOpção Inválida\")\n",
        "\n",
        "if resultado_procura:\n",
        "    print(f\"O nome/sobrenome foi encontrado nas posições: {resultado_procura}\")\n",
        "else:\n",
        "    print(\"O nome/sobrenome não foi encontrado.\")"
      ],
      "metadata": {
        "id": "HUMEWrfTNf12"
      },
      "execution_count": null,
      "outputs": []
    },
    {
      "cell_type": "markdown",
      "source": [
        "Crie uma função que realize o cadastro do usuário, contendo o nome com sobrenome e email. A função receberá como parâmetro o vetor do banco de dados e devolve o vetor do banco de dados com o novo registro adicionado. Utilize a função desenvolvida na questão 1 para receber o nome e a função desenvolvida na questão 3 para receber o email."
      ],
      "metadata": {
        "id": "InshYeKxsaM8"
      }
    },
    {
      "cell_type": "code",
      "source": [
        "bd_cadastro = []\n",
        "\n",
        "def cadastro_usuario(bd):\n",
        "    nome_bd = nome_completo()\n",
        "    nome_bd.append(validar_email())\n",
        "    bd.append(nome_bd)\n",
        "\n",
        "while True:\n",
        "  opcao = int(input(\"Selecione a opção desejada: \\n1-Cadastrar Usuário \\n2-Sair \\n\"))\n",
        "  if opcao == 1:\n",
        "    cadastro_usuario(bd_cadastro)\n",
        "  elif opcao == 2:\n",
        "    print(bd_cadastro)\n",
        "    break\n",
        "  else:\n",
        "    print(\"\\nOpção inexistente!\")\n"
      ],
      "metadata": {
        "id": "Kv7XcE6Tsf7z"
      },
      "execution_count": null,
      "outputs": []
    },
    {
      "cell_type": "markdown",
      "source": [
        "Crie uma função que permita que o usuário realize uma pesquisa no banco de dados através do nome ou do sobrenome. A função deve solicitar ao usuário os parâmetros da busca e se ele é um nome ou sobrenome, e imprimir todos os valores encontrados."
      ],
      "metadata": {
        "id": "_Sl3Js2t97sR"
      }
    },
    {
      "cell_type": "code",
      "source": [
        "cadastro_usuario(bd_cadastro)"
      ],
      "metadata": {
        "id": "MyDx6LiWWQzx"
      },
      "execution_count": null,
      "outputs": []
    },
    {
      "cell_type": "code",
      "source": [
        "def busca_bd(vetor, nome, sobrenome = False):\n",
        "  correspondente = []\n",
        "  for vetor_nome in vetor:\n",
        "    if nome:\n",
        "      if nome == vetor_nome [0]:\n",
        "        correspondente.append(vetor_nome)\n",
        "    elif sobrenome:\n",
        "      if sobrenome == vetor_nome[1]:\n",
        "          correspondente.append(vetor_nome)\n",
        "  return correspondente\n",
        "\n",
        "while True:\n",
        "  metodo_busca = input (\"Digite qual a forma de busca: \\n1-Nome \\n2-Sobrenome \\n\")\n",
        "  if metodo_busca == \"1\":\n",
        "    nome_procura = input(\"\\nDigite o nome que deseja procurar: \").title()\n",
        "    resultado_pesquisa = busca_bd(bd_cadastro, nome_procura)\n",
        "    break\n",
        "  elif metodo_busca == \"2\":\n",
        "    sobrenome_procura = input(\"\\nDigite o sobrenome que deseja procurar: \").title()\n",
        "    resultado_pesquisa = busca_bd(bd_cadastro, nome= False, sobrenome = sobrenome_procura)\n",
        "    break\n",
        "  else:\n",
        "    print(\"Digite um valor válido!\")\n",
        "\n",
        "if resultado_pesquisa:\n",
        "  print(f\"\\nO nome/sobrenome foi encontrado nos cadastros: \")\n",
        "  for indice, item in enumerate(resultado_pesquisa):\n",
        "    print(f\"{indice} - {item}\")\n",
        "else:\n",
        "    print(\"O nome/sobrenome não foi encontrado.\")\n",
        "\n",
        "vetor_nomes = [[\"Maria\",\"Silva\"],[\"José\",\"Silva\"],[\"José\",\"Santos\"],[\"André\",\"Oliveira\"]]\n",
        "\n",
        "def busca_nomes(vetor, nome, sobrenome=False):\n",
        "    encontrados = []\n",
        "    for indice, vetor_nome in enumerate(vetor):\n",
        "        if nome:\n",
        "            if nome == vetor_nome[0]:\n",
        "                encontrados.append(indice)\n",
        "        elif sobrenome:\n",
        "            if sobrenome == vetor_nome[1]:\n",
        "                encontrados.append(indice)\n",
        "    return encontrados\n",
        "\n",
        "tipo_busca = int(input(\"Deseja buscar o nome por:\\n1-Nome\\n2-Sobrenome\\n\"))\n",
        "resultado_procura = None\n",
        "\n",
        "if tipo_busca == 1:\n",
        "    nome_procurado = input(\"Insira o nome a ser procurado: \")\n",
        "    resultado_procura = busca_nomes(vetor_nomes, nome_procurado)\n",
        "elif tipo_busca == 2:\n",
        "    sobrenome_procurado = input(\"Insira o sobrenome a ser procurado: \")\n",
        "    resultado_procura = busca_nomes(vetor_nomes, nome = False, sobrenome = sobrenome_procurado)\n",
        "else:\n",
        "    print(\"\\nOpção Inválida\")\n",
        "\n",
        "if resultado_procura:\n",
        "    print(f\"O nome/sobrenome foi encontrado nas posições: {resultado_procura}\")\n",
        "else:\n",
        "    print(\"O nome/sobrenome não foi encontrado.\")\n",
        "\n"
      ],
      "metadata": {
        "id": "RqbLXqH2-A1a"
      },
      "execution_count": null,
      "outputs": []
    },
    {
      "cell_type": "markdown",
      "source": [
        "#Jogo da forca\n",
        "* Crie uma lista contendo nomes diversos, em diversas categorias, tais como frutas, carros, objetos, entre outros.\n",
        "* Crie uma função que receba como parâmetro o vetor de nomes, de onde deverá ser escolhida aleatoriamente uma palavra. O retorno da função deve ser uma lista contendo os caracteres da palavra selecionada."
      ],
      "metadata": {
        "id": "vj9U2LrPxIyn"
      }
    },
    {
      "cell_type": "markdown",
      "source": [
        "## CRIANDO FUNÇÕES INDIVIDUALMENTE"
      ],
      "metadata": {
        "id": "0_iXB4pwN4sR"
      }
    },
    {
      "cell_type": "code",
      "source": [
        "import random\n",
        "\n",
        "nomes = { \"frutas\" : [\"banana\", \"maça\", \"kiwi\", \"melancia\", \"cupu-açu\", \"açai\"],\n",
        "         \"carros\" : [\"ferrari\", \"ford\", \"toyota\", \"honda\", \"bmw\", \"tesla\"],\n",
        "         \"objetos\" : [\"anel\", \"bandolim\", \"candelabro\", \"disquete\", \"extintor\", \"harpa\"]}\n",
        "\n",
        "def palavra_aleatoria(nomes):\n",
        "  categoria = random.choice(list(nomes.keys()))\n",
        "  palavra = random.choice(nomes[categoria])\n",
        "  return categoria, list(palavra)\n",
        "\n",
        "resultado_categoria, resultado_palavra = palavra_aleatoria(nomes)\n",
        "#print(f\"Categoria selecionada: {resultado_categoria} \\nPalavra selecionada: {resultado_palavra}\")"
      ],
      "metadata": {
        "id": "HASL99jMxYGh"
      },
      "execution_count": null,
      "outputs": []
    },
    {
      "cell_type": "markdown",
      "source": [
        "Crie uma função que receba como parâmetro uma lista contendo a palavra a ser adivinhada (hidden), como retornada na questão 8, uma segunda lista, que conterá a palavra formada com os caracteres adivinhados pelo jogador (guess) e o caracter que foi sugerido pelo usuário. A função deve verificar a existência do caracter dentro da lista hidden e preencher a lista guess com o caracter sugerido, na posição correta, caso ele esteja contido na palavra. O retorno deve ser a lista guess, contendo as letras já adivinhas e um valor booleano, que indicará a existência da letra na palavra. O protótipo da função pode seguir o seguinte modelo:\n",
        "\n",
        "**def checa_letra** *(hidden, guess, letter)*\n",
        "\n",
        "**return** *guess, is_letter*\n"
      ],
      "metadata": {
        "id": "ES-wbZD-BzwO"
      }
    },
    {
      "cell_type": "code",
      "source": [
        "from posixpath import join\n",
        "\n",
        "tentativas=[]\n",
        "palavra_escondida = [\"_\"] * len(resultado_palavra)\n",
        "\n",
        "def checa_letra(palavra_advinhar, palavra_advinhada, letra):\n",
        "  acertou = False\n",
        "  erro = []\n",
        "  for i in range(len(palavra_advinhar)):\n",
        "    if palavra_advinhar[i] == letra:\n",
        "      palavra_advinhada[i] = letra\n",
        "      acertou = True\n",
        "    else:\n",
        "      erro.append(letra)\n",
        "  return palavra_advinhada, acertou, erro\n"
      ],
      "metadata": {
        "id": "wIPBR4fwB_vB"
      },
      "execution_count": null,
      "outputs": []
    },
    {
      "cell_type": "code",
      "source": [
        "print(f\"Categoria: {resultado_categoria}\")\n",
        "print(f\"Quantidade de letras: {len(resultado_palavra)}\")\n",
        "letras_utilizadas = set()\n",
        "\n",
        "while \"_\" in palavra_escondida:\n",
        "  tentativa = input(\"\\nTente advinhar a palavra. Digite uma letra: \")\n",
        "  tentativas.append(tentativa)\n",
        "\n",
        "  if verifica_letra_utilizada(tentativa, letras_utilizadas):\n",
        "      continue\n",
        "  palavra_escondida, letra, erros = checa_letra(resultado_palavra, palavra_escondida, tentativa)\n",
        "\n",
        "  if letra:\n",
        "    print(\" \".join(palavra_escondida))\n",
        "    print(f\"A letra {tentativa} está contida!\")\n",
        "  else:\n",
        "    print(f\"A letra {tentativa} não está contida na palavra a ser advinhada. Tente novamente\")\n",
        "\n",
        "acertou = \"\".join(palavra_escondida).upper()\n",
        "print(f\"\\nParabéns!! Você acertou a palavra sorteada: {acertou}\")"
      ],
      "metadata": {
        "id": "XEPPbrW_epdW"
      },
      "execution_count": null,
      "outputs": []
    },
    {
      "cell_type": "markdown",
      "source": [
        "Crie uma função que verifique se todas as posições da lista usada para receber as letras sugeridas pelo usuário já foram preenchidas. Como sugestão, a lista de sugestões pode ser preenchida com o valor None em todas as posições, devendo ter o mesmo tamanho da palavra que será adivinhada."
      ],
      "metadata": {
        "id": "skY_fvS8HJJN"
      }
    },
    {
      "cell_type": "code",
      "source": [
        "preenchidas = [None] * len(resultado_palavra)\n",
        "\n",
        "def verificacao (lista):\n",
        "  for i in lista:\n",
        "    if i is None:\n",
        "      return False\n",
        "  return True\n",
        "\n",
        "resultado = resultado_palavra\n",
        "palavra_escondida, letra, _ = checa_letra(resultado, preenchidas, tentativa)\n",
        "print(verificacao(palavra_escondida))"
      ],
      "metadata": {
        "id": "l584ujWiwBzG",
        "colab": {
          "base_uri": "https://localhost:8080/"
        },
        "outputId": "39f80573-2ed5-4d8f-f7e3-af8b549fd5e9"
      },
      "execution_count": null,
      "outputs": [
        {
          "output_type": "stream",
          "name": "stdout",
          "text": [
            "False\n"
          ]
        }
      ]
    },
    {
      "cell_type": "markdown",
      "source": [
        "Crie uma função para desenhar o enforcado, à medida que letras erradas são escolhidas. O limite será de 6 erros e a seguinte lista de caracteres poderá ser usada: [\"0\", \"/\", \"|\", \"\\\\\", \"/\", \" \\\\\"]"
      ],
      "metadata": {
        "id": "Pb7GkFc6HJ8a"
      }
    },
    {
      "cell_type": "code",
      "source": [
        "def forca (erros):\n",
        "  desenho = [\"\\\\\", \" \\\\\", \"  0\", \" /|\\\\\",\"  |\", \" / \\\\\"]\n",
        "  for i in range(erros):\n",
        "    print(desenho[i])\n",
        "\n",
        "##forca(len(erros)-1)"
      ],
      "metadata": {
        "id": "URSAy9obYvD5"
      },
      "execution_count": null,
      "outputs": []
    },
    {
      "cell_type": "markdown",
      "source": [
        "Crie uma função que controle quais letras do alfabeto já foram escolhidas, e impeça que letras repetidas sejam contadas."
      ],
      "metadata": {
        "id": "pMlmbXbXHMu1"
      }
    },
    {
      "cell_type": "code",
      "source": [
        "def verifica_letra_utilizada(letra, letras_utilizadas):\n",
        "    if letra in letras_utilizadas:\n",
        "        print(\"Você já tentou essa letra. Tente novamente.\")\n",
        "        return True\n",
        "    else:\n",
        "        letras_utilizadas.add(letra)\n",
        "        return False"
      ],
      "metadata": {
        "id": "POxskt_Cd0O1"
      },
      "execution_count": null,
      "outputs": []
    },
    {
      "cell_type": "markdown",
      "source": [
        "## RODANDO O CÓDIGO"
      ],
      "metadata": {
        "id": "gxUnLCeENtlR"
      }
    },
    {
      "cell_type": "code",
      "source": [
        "# BIBLIOTECAS IMPORTADAS\n",
        "import random\n",
        "\n",
        "# DECLARAÇÃO DE VARIÁVEIS\n",
        "nomes = {\n",
        "    \"frutas\": [\"banana\", \"maça\", \"kiwi\", \"melancia\", \"cupu-açu\", \"açai\"],\n",
        "    \"carros\": [\"ferrari\", \"ford\", \"toyota\", \"honda\", \"bmw\", \"tesla\"],\n",
        "    \"objetos\": [\"anel\", \"bandolim\", \"candelabro\", \"disquete\", \"extintor\", \"harpa\"]\n",
        "}\n",
        "\n",
        "resultado_categoria, resultado_palavra = palavra_aleatoria(nomes)\n",
        "tentativas = []\n",
        "palavra_escondida = [\"_\"] * len(resultado_palavra)\n",
        "preenchidas = [None] * len(resultado_palavra)\n",
        "letras_utilizadas = set()\n",
        "\n",
        "# FUNÇÕES CRIADAS\n",
        "def palavra_aleatoria(nomes):\n",
        "    categoria = random.choice(list(nomes.keys()))\n",
        "    palavra = random.choice(nomes[categoria])\n",
        "    return categoria, list(palavra)\n",
        "\n",
        "def checa_letra(palavra_advinhar, palavra_advinhada, letra):\n",
        "    acertou = False\n",
        "    erros = []\n",
        "    for i in range(len(palavra_advinhar)):\n",
        "        if palavra_advinhar[i] == letra:\n",
        "            palavra_advinhada[i] = letra\n",
        "            acertou = True\n",
        "        else:\n",
        "            erros.append(letra)\n",
        "    return palavra_advinhada, acertou, erros\n",
        "\n",
        "def verificacao(lista):\n",
        "    return \"_\" not in lista\n",
        "\n",
        "def verifica_letra_utilizada(letra, letras_utilizadas):\n",
        "    if letra in letras_utilizadas:\n",
        "        print(\"Você já tentou essa letra. Tente novamente.\")\n",
        "        return True\n",
        "    else:\n",
        "        letras_utilizadas.add(letra)\n",
        "        return False\n",
        "\n",
        "def forca(erros):\n",
        "    desenho = [\"\\\\\", \" \\\\\", \"  0\", \" /|\\\\\", \"  |\", \" / \\\\\"]\n",
        "    for i in range(erros):\n",
        "        print(desenho[i])\n",
        "\n",
        "# FUNÇÃO PARA JOGAR\n",
        "def jogar():\n",
        "    global palavra_escondida, letras_utilizadas, erros\n",
        "\n",
        "    print(f\"Categoria: {resultado_categoria}\")\n",
        "    print(f\"Quantidade de letras: {len(resultado_palavra)}\")\n",
        "\n",
        "    tentativas_maximas = 6\n",
        "    erros = 0\n",
        "\n",
        "    while \"_\" in palavra_escondida and erros < tentativas_maximas:\n",
        "        print(\"\\nPalavra atual: \" + \" \".join(palavra_escondida))\n",
        "        print(\"Letras utilizadas: \" + \", \".join(letras_utilizadas))\n",
        "        print(f\"Tentativas restantes: {tentativas_maximas - erros}\")\n",
        "        tentativa = input(\"\\nTente advinhar a palavra. Digite uma letra: \").lower()\n",
        "\n",
        "        if verifica_letra_utilizada(tentativa, letras_utilizadas):\n",
        "            continue\n",
        "\n",
        "        palavra_escondida, letra, erros_letra = checa_letra(resultado_palavra, palavra_escondida, tentativa)\n",
        "\n",
        "        if letra:\n",
        "            print(\" \".join(palavra_escondida))\n",
        "            print(f\"A letra {tentativa} está contida!\")\n",
        "        else:\n",
        "            print(f\"A letra {tentativa} não está contida na palavra a ser advinhada. Tente novamente\")\n",
        "            erros += 1\n",
        "            print(\"Erros: \", erros)\n",
        "            forca(erros)\n",
        "\n",
        "    if \"_\" not in palavra_escondida:\n",
        "        print(f\"\\nParabéns!! Você acertou a palavra sorteada: {''.join(palavra_escondida).upper()}\")\n",
        "    else:\n",
        "        print(\"Você errou muitas vezes! A palavra era:\", ''.join(resultado_palavra).upper())"
      ],
      "metadata": {
        "id": "8_qXzL9E9MfB"
      },
      "execution_count": null,
      "outputs": []
    },
    {
      "cell_type": "markdown",
      "source": [
        "Crie um fluxograma que descreva a estrutura do jogo"
      ],
      "metadata": {
        "id": "5jpDkU6wHUoC"
      }
    },
    {
      "cell_type": "markdown",
      "source": [
        "![image.png](data:image/png;base64,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)"
      ],
      "metadata": {
        "id": "vRGkE8aZNQDh"
      }
    },
    {
      "cell_type": "markdown",
      "source": [
        "Com base no fluxograma da questão 13, crie a estrutura completa do jogo, utilizando as funções desenvolvidas ao longo da atividade, bem como criando as variáveis que serão utilizadas para controlar as ações do jogo."
      ],
      "metadata": {
        "id": "NCnU8opsHYQF"
      }
    },
    {
      "cell_type": "markdown",
      "source": [
        "Realize o teste do código desenvolvido, apresentando o resultado para cinco rodadas do jogo."
      ],
      "metadata": {
        "id": "0OVuReAkHbIK"
      }
    },
    {
      "cell_type": "markdown",
      "source": [
        "## jogo um"
      ],
      "metadata": {
        "id": "SJ4JyhyTShCv"
      }
    },
    {
      "cell_type": "code",
      "source": [
        "jogo_um = jogar()"
      ],
      "metadata": {
        "colab": {
          "base_uri": "https://localhost:8080/"
        },
        "id": "8Q3k16D2QuGS",
        "outputId": "a279f5c4-aa0e-4691-de63-a5d0f6d9a8ae"
      },
      "execution_count": null,
      "outputs": [
        {
          "output_type": "stream",
          "name": "stdout",
          "text": [
            "Categoria: objetos\n",
            "Quantidade de letras: 5\n",
            "\n",
            "Palavra atual: _ _ _ _ _\n",
            "Letras utilizadas: \n",
            "Tentativas restantes: 6\n",
            "\n",
            "Tente advinhar a palavra. Digite uma letra: a\n",
            "_ a _ _ a\n",
            "A letra a está contida!\n",
            "\n",
            "Palavra atual: _ a _ _ a\n",
            "Letras utilizadas: a\n",
            "Tentativas restantes: 6\n",
            "\n",
            "Tente advinhar a palavra. Digite uma letra: e\n",
            "A letra e não está contida na palavra a ser advinhada. Tente novamente\n",
            "Erros:  1\n",
            "\\\n",
            "\n",
            "Palavra atual: _ a _ _ a\n",
            "Letras utilizadas: e, a\n",
            "Tentativas restantes: 5\n",
            "\n",
            "Tente advinhar a palavra. Digite uma letra: l\n",
            "A letra l não está contida na palavra a ser advinhada. Tente novamente\n",
            "Erros:  2\n",
            "\\\n",
            " \\\n",
            "\n",
            "Palavra atual: _ a _ _ a\n",
            "Letras utilizadas: l, e, a\n",
            "Tentativas restantes: 4\n",
            "\n",
            "Tente advinhar a palavra. Digite uma letra: r\n",
            "_ a r _ a\n",
            "A letra r está contida!\n",
            "\n",
            "Palavra atual: _ a r _ a\n",
            "Letras utilizadas: l, e, a, r\n",
            "Tentativas restantes: 4\n",
            "\n",
            "Tente advinhar a palavra. Digite uma letra: d\n",
            "A letra d não está contida na palavra a ser advinhada. Tente novamente\n",
            "Erros:  3\n",
            "\\\n",
            " \\\n",
            "  0\n",
            "\n",
            "Palavra atual: _ a r _ a\n",
            "Letras utilizadas: l, d, a, r, e\n",
            "Tentativas restantes: 3\n",
            "\n",
            "Tente advinhar a palavra. Digite uma letra: p\n",
            "_ a r p a\n",
            "A letra p está contida!\n",
            "\n",
            "Palavra atual: _ a r p a\n",
            "Letras utilizadas: l, d, a, r, e, p\n",
            "Tentativas restantes: 3\n",
            "\n",
            "Tente advinhar a palavra. Digite uma letra: h\n",
            "h a r p a\n",
            "A letra h está contida!\n",
            "\n",
            "Parabéns!! Você acertou a palavra sorteada: HARPA\n"
          ]
        }
      ]
    },
    {
      "cell_type": "markdown",
      "source": [
        "##jogo dois"
      ],
      "metadata": {
        "id": "wcwfRVUnSjcG"
      }
    },
    {
      "cell_type": "markdown",
      "source": [
        "####Código principal"
      ],
      "metadata": {
        "id": "ZSVycZZhUKXe"
      }
    },
    {
      "cell_type": "code",
      "source": [
        "# BIBLIOTECAS IMPORTADAS\n",
        "import random\n",
        "\n",
        "# DECLARAÇÃO DE VARIÁVEIS\n",
        "nomes = {\n",
        "    \"frutas\": [\"banana\", \"maça\", \"kiwi\", \"melancia\", \"cupu-açu\", \"açai\"],\n",
        "    \"carros\": [\"ferrari\", \"ford\", \"toyota\", \"honda\", \"bmw\", \"tesla\"],\n",
        "    \"objetos\": [\"anel\", \"bandolim\", \"candelabro\", \"disquete\", \"extintor\", \"harpa\"]\n",
        "}\n",
        "\n",
        "resultado_categoria, resultado_palavra = palavra_aleatoria(nomes)\n",
        "tentativas = []\n",
        "palavra_escondida = [\"_\"] * len(resultado_palavra)\n",
        "preenchidas = [None] * len(resultado_palavra)\n",
        "letras_utilizadas = set()\n",
        "\n",
        "# FUNÇÕES CRIADAS\n",
        "def palavra_aleatoria(nomes):\n",
        "    categoria = random.choice(list(nomes.keys()))\n",
        "    palavra = random.choice(nomes[categoria])\n",
        "    return categoria, list(palavra)\n",
        "\n",
        "def checa_letra(palavra_advinhar, palavra_advinhada, letra):\n",
        "    acertou = False\n",
        "    erros = []\n",
        "    for i in range(len(palavra_advinhar)):\n",
        "        if palavra_advinhar[i] == letra:\n",
        "            palavra_advinhada[i] = letra\n",
        "            acertou = True\n",
        "        else:\n",
        "            erros.append(letra)\n",
        "    return palavra_advinhada, acertou, erros\n",
        "\n",
        "def verificacao(lista):\n",
        "    return \"_\" not in lista\n",
        "\n",
        "def verifica_letra_utilizada(letra, letras_utilizadas):\n",
        "    if letra in letras_utilizadas:\n",
        "        print(\"Você já tentou essa letra. Tente novamente.\")\n",
        "        return True\n",
        "    else:\n",
        "        letras_utilizadas.add(letra)\n",
        "        return False\n",
        "\n",
        "def forca(erros):\n",
        "    desenho = [\"\\\\\", \" \\\\\", \"  0\", \" /|\\\\\", \"  |\", \" / \\\\\"]\n",
        "    for i in range(erros):\n",
        "        print(desenho[i])\n",
        "\n",
        "# FUNÇÃO PARA JOGAR\n",
        "def jogar():\n",
        "    global palavra_escondida, letras_utilizadas, erros\n",
        "\n",
        "    print(f\"Categoria: {resultado_categoria}\")\n",
        "    print(f\"Quantidade de letras: {len(resultado_palavra)}\")\n",
        "\n",
        "    tentativas_maximas = 6\n",
        "    erros = 0\n",
        "\n",
        "    while \"_\" in palavra_escondida and erros < tentativas_maximas:\n",
        "        print(\"\\nPalavra atual: \" + \" \".join(palavra_escondida))\n",
        "        print(\"Letras utilizadas: \" + \", \".join(letras_utilizadas))\n",
        "        print(f\"Tentativas restantes: {tentativas_maximas - erros}\")\n",
        "        tentativa = input(\"\\nTente advinhar a palavra. Digite uma letra: \").lower()\n",
        "\n",
        "        if verifica_letra_utilizada(tentativa, letras_utilizadas):\n",
        "            continue\n",
        "\n",
        "        palavra_escondida, letra, erros_letra = checa_letra(resultado_palavra, palavra_escondida, tentativa)\n",
        "\n",
        "        if letra:\n",
        "            print(\" \".join(palavra_escondida))\n",
        "            print(f\"A letra {tentativa} está contida!\")\n",
        "        else:\n",
        "            print(f\"A letra {tentativa} não está contida na palavra a ser advinhada. Tente novamente\")\n",
        "            erros += 1\n",
        "            print(\"Erros: \", erros)\n",
        "            forca(erros)\n",
        "\n",
        "    if \"_\" not in palavra_escondida:\n",
        "        print(f\"\\nParabéns!! Você acertou a palavra sorteada: {''.join(palavra_escondida).upper()}\")\n",
        "    else:\n",
        "        print(\"Você errou muitas vezes! A palavra era:\", ''.join(resultado_palavra).upper())"
      ],
      "metadata": {
        "id": "Iq3ZPFIwUJKN"
      },
      "execution_count": null,
      "outputs": []
    },
    {
      "cell_type": "markdown",
      "source": [
        "####Jogo"
      ],
      "metadata": {
        "id": "75qH4ZvoUPMV"
      }
    },
    {
      "cell_type": "code",
      "source": [
        "jogo_dois = jogar()"
      ],
      "metadata": {
        "colab": {
          "base_uri": "https://localhost:8080/"
        },
        "id": "v4MmhNmySWBu",
        "outputId": "0706ce78-fd25-4870-cd0e-99b5ea3844db"
      },
      "execution_count": null,
      "outputs": [
        {
          "output_type": "stream",
          "name": "stdout",
          "text": [
            "Categoria: frutas\n",
            "Quantidade de letras: 8\n",
            "\n",
            "Palavra atual: _ _ _ _ _ _ _ _\n",
            "Letras utilizadas: \n",
            "Tentativas restantes: 6\n",
            "\n",
            "Tente advinhar a palavra. Digite uma letra: p\n",
            "A letra p não está contida na palavra a ser advinhada. Tente novamente\n",
            "Erros:  1\n",
            "\\\n",
            "\n",
            "Palavra atual: _ _ _ _ _ _ _ _\n",
            "Letras utilizadas: p\n",
            "Tentativas restantes: 5\n",
            "\n",
            "Tente advinhar a palavra. Digite uma letra: a\n",
            "_ _ _ a _ _ _ a\n",
            "A letra a está contida!\n",
            "\n",
            "Palavra atual: _ _ _ a _ _ _ a\n",
            "Letras utilizadas: a, p\n",
            "Tentativas restantes: 5\n",
            "\n",
            "Tente advinhar a palavra. Digite uma letra: r\n",
            "A letra r não está contida na palavra a ser advinhada. Tente novamente\n",
            "Erros:  2\n",
            "\\\n",
            " \\\n",
            "\n",
            "Palavra atual: _ _ _ a _ _ _ a\n",
            "Letras utilizadas: a, p, r\n",
            "Tentativas restantes: 4\n",
            "\n",
            "Tente advinhar a palavra. Digite uma letra: e\n",
            "_ e _ a _ _ _ a\n",
            "A letra e está contida!\n",
            "\n",
            "Palavra atual: _ e _ a _ _ _ a\n",
            "Letras utilizadas: e, a, p, r\n",
            "Tentativas restantes: 4\n",
            "\n",
            "Tente advinhar a palavra. Digite uma letra: c\n",
            "_ e _ a _ c _ a\n",
            "A letra c está contida!\n",
            "\n",
            "Palavra atual: _ e _ a _ c _ a\n",
            "Letras utilizadas: a, c, r, e, p\n",
            "Tentativas restantes: 4\n",
            "\n",
            "Tente advinhar a palavra. Digite uma letra: i\n",
            "_ e _ a _ c i a\n",
            "A letra i está contida!\n",
            "\n",
            "Palavra atual: _ e _ a _ c i a\n",
            "Letras utilizadas: i, a, c, r, e, p\n",
            "Tentativas restantes: 4\n",
            "\n",
            "Tente advinhar a palavra. Digite uma letra: n\n",
            "_ e _ a n c i a\n",
            "A letra n está contida!\n",
            "\n",
            "Palavra atual: _ e _ a n c i a\n",
            "Letras utilizadas: i, n, a, c, r, e, p\n",
            "Tentativas restantes: 4\n",
            "\n",
            "Tente advinhar a palavra. Digite uma letra: m\n",
            "m e _ a n c i a\n",
            "A letra m está contida!\n",
            "\n",
            "Palavra atual: m e _ a n c i a\n",
            "Letras utilizadas: i, n, a, c, r, e, m, p\n",
            "Tentativas restantes: 4\n",
            "\n",
            "Tente advinhar a palavra. Digite uma letra: l\n",
            "m e l a n c i a\n",
            "A letra l está contida!\n",
            "\n",
            "Parabéns!! Você acertou a palavra sorteada: MELANCIA\n"
          ]
        }
      ]
    },
    {
      "cell_type": "markdown",
      "source": [
        "##jogo tres"
      ],
      "metadata": {
        "id": "PDwm0Ws9Smbu"
      }
    },
    {
      "cell_type": "markdown",
      "source": [
        "####Código principal"
      ],
      "metadata": {
        "id": "eSO601bbUbd4"
      }
    },
    {
      "cell_type": "code",
      "source": [
        "# BIBLIOTECAS IMPORTADAS\n",
        "import random\n",
        "\n",
        "# DECLARAÇÃO DE VARIÁVEIS\n",
        "nomes = {\n",
        "    \"frutas\": [\"banana\", \"maça\", \"kiwi\", \"melancia\", \"cupu-açu\", \"açai\"],\n",
        "    \"carros\": [\"ferrari\", \"ford\", \"toyota\", \"honda\", \"bmw\", \"tesla\"],\n",
        "    \"objetos\": [\"anel\", \"bandolim\", \"candelabro\", \"disquete\", \"extintor\", \"harpa\"]\n",
        "}\n",
        "\n",
        "resultado_categoria, resultado_palavra = palavra_aleatoria(nomes)\n",
        "tentativas = []\n",
        "palavra_escondida = [\"_\"] * len(resultado_palavra)\n",
        "preenchidas = [None] * len(resultado_palavra)\n",
        "letras_utilizadas = set()\n",
        "\n",
        "# FUNÇÕES CRIADAS\n",
        "def palavra_aleatoria(nomes):\n",
        "    categoria = random.choice(list(nomes.keys()))\n",
        "    palavra = random.choice(nomes[categoria])\n",
        "    return categoria, list(palavra)\n",
        "\n",
        "def checa_letra(palavra_advinhar, palavra_advinhada, letra):\n",
        "    acertou = False\n",
        "    erros = []\n",
        "    for i in range(len(palavra_advinhar)):\n",
        "        if palavra_advinhar[i] == letra:\n",
        "            palavra_advinhada[i] = letra\n",
        "            acertou = True\n",
        "        else:\n",
        "            erros.append(letra)\n",
        "    return palavra_advinhada, acertou, erros\n",
        "\n",
        "def verificacao(lista):\n",
        "    return \"_\" not in lista\n",
        "\n",
        "def verifica_letra_utilizada(letra, letras_utilizadas):\n",
        "    if letra in letras_utilizadas:\n",
        "        print(\"Você já tentou essa letra. Tente novamente.\")\n",
        "        return True\n",
        "    else:\n",
        "        letras_utilizadas.add(letra)\n",
        "        return False\n",
        "\n",
        "def forca(erros):\n",
        "    desenho = [\"\\\\\", \" \\\\\", \"  0\", \" /|\\\\\", \"  |\", \" / \\\\\"]\n",
        "    for i in range(erros):\n",
        "        print(desenho[i])\n",
        "\n",
        "# FUNÇÃO PARA JOGAR\n",
        "def jogar():\n",
        "    global palavra_escondida, letras_utilizadas, erros\n",
        "\n",
        "    print(f\"Categoria: {resultado_categoria}\")\n",
        "    print(f\"Quantidade de letras: {len(resultado_palavra)}\")\n",
        "\n",
        "    tentativas_maximas = 6\n",
        "    erros = 0\n",
        "\n",
        "    while \"_\" in palavra_escondida and erros < tentativas_maximas:\n",
        "        print(\"\\nPalavra atual: \" + \" \".join(palavra_escondida))\n",
        "        print(\"Letras utilizadas: \" + \", \".join(letras_utilizadas))\n",
        "        print(f\"Tentativas restantes: {tentativas_maximas - erros}\")\n",
        "        tentativa = input(\"\\nTente advinhar a palavra. Digite uma letra: \").lower()\n",
        "\n",
        "        if verifica_letra_utilizada(tentativa, letras_utilizadas):\n",
        "            continue\n",
        "\n",
        "        palavra_escondida, letra, erros_letra = checa_letra(resultado_palavra, palavra_escondida, tentativa)\n",
        "\n",
        "        if letra:\n",
        "            print(\" \".join(palavra_escondida))\n",
        "            print(f\"A letra {tentativa} está contida!\")\n",
        "        else:\n",
        "            print(f\"A letra {tentativa} não está contida na palavra a ser advinhada. Tente novamente\")\n",
        "            erros += 1\n",
        "            print(\"Erros: \", erros)\n",
        "            forca(erros)\n",
        "\n",
        "    if \"_\" not in palavra_escondida:\n",
        "        print(f\"\\nParabéns!! Você acertou a palavra sorteada: {''.join(palavra_escondida).upper()}\")\n",
        "    else:\n",
        "        print(\"Você errou muitas vezes! A palavra era:\", ''.join(resultado_palavra).upper())"
      ],
      "metadata": {
        "id": "emZCLb4nUfvM"
      },
      "execution_count": null,
      "outputs": []
    },
    {
      "cell_type": "markdown",
      "source": [
        "####Jogo"
      ],
      "metadata": {
        "id": "t_TMoxKTUfDF"
      }
    },
    {
      "cell_type": "code",
      "source": [
        "jogo_tres = jogar()"
      ],
      "metadata": {
        "colab": {
          "base_uri": "https://localhost:8080/"
        },
        "id": "f4qZKwFtSYy_",
        "outputId": "385da951-67fb-416f-a7e6-583863481b21"
      },
      "execution_count": null,
      "outputs": [
        {
          "output_type": "stream",
          "name": "stdout",
          "text": [
            "Categoria: carros\n",
            "Quantidade de letras: 4\n",
            "\n",
            "Palavra atual: _ _ _ _\n",
            "Letras utilizadas: \n",
            "Tentativas restantes: 6\n",
            "\n",
            "Tente advinhar a palavra. Digite uma letra: o\n",
            "_ o _ _\n",
            "A letra o está contida!\n",
            "\n",
            "Palavra atual: _ o _ _\n",
            "Letras utilizadas: o\n",
            "Tentativas restantes: 6\n",
            "\n",
            "Tente advinhar a palavra. Digite uma letra: u\n",
            "A letra u não está contida na palavra a ser advinhada. Tente novamente\n",
            "Erros:  1\n",
            "\\\n",
            "\n",
            "Palavra atual: _ o _ _\n",
            "Letras utilizadas: u, o\n",
            "Tentativas restantes: 5\n",
            "\n",
            "Tente advinhar a palavra. Digite uma letra: w\n",
            "A letra w não está contida na palavra a ser advinhada. Tente novamente\n",
            "Erros:  2\n",
            "\\\n",
            " \\\n",
            "\n",
            "Palavra atual: _ o _ _\n",
            "Letras utilizadas: u, w, o\n",
            "Tentativas restantes: 4\n",
            "\n",
            "Tente advinhar a palavra. Digite uma letra: m\n",
            "A letra m não está contida na palavra a ser advinhada. Tente novamente\n",
            "Erros:  3\n",
            "\\\n",
            " \\\n",
            "  0\n",
            "\n",
            "Palavra atual: _ o _ _\n",
            "Letras utilizadas: u, w, o, m\n",
            "Tentativas restantes: 3\n",
            "\n",
            "Tente advinhar a palavra. Digite uma letra: a\n",
            "A letra a não está contida na palavra a ser advinhada. Tente novamente\n",
            "Erros:  4\n",
            "\\\n",
            " \\\n",
            "  0\n",
            " /|\\\n",
            "\n",
            "Palavra atual: _ o _ _\n",
            "Letras utilizadas: u, w, a, o, m\n",
            "Tentativas restantes: 2\n",
            "\n",
            "Tente advinhar a palavra. Digite uma letra: w\n",
            "Você já tentou essa letra. Tente novamente.\n",
            "\n",
            "Palavra atual: _ o _ _\n",
            "Letras utilizadas: u, w, a, o, m\n",
            "Tentativas restantes: 2\n",
            "\n",
            "Tente advinhar a palavra. Digite uma letra: v\n",
            "A letra v não está contida na palavra a ser advinhada. Tente novamente\n",
            "Erros:  5\n",
            "\\\n",
            " \\\n",
            "  0\n",
            " /|\\\n",
            "  |\n",
            "\n",
            "Palavra atual: _ o _ _\n",
            "Letras utilizadas: u, w, a, v, o, m\n",
            "Tentativas restantes: 1\n",
            "\n",
            "Tente advinhar a palavra. Digite uma letra: t\n",
            "A letra t não está contida na palavra a ser advinhada. Tente novamente\n",
            "Erros:  6\n",
            "\\\n",
            " \\\n",
            "  0\n",
            " /|\\\n",
            "  |\n",
            " / \\\n",
            "Você errou muitas vezes! A palavra era: FORD\n"
          ]
        }
      ]
    },
    {
      "cell_type": "markdown",
      "source": [
        "##jogo quatro"
      ],
      "metadata": {
        "id": "ydITv8NPSo2v"
      }
    },
    {
      "cell_type": "markdown",
      "source": [
        "####Código principal"
      ],
      "metadata": {
        "id": "X5ecrQfUVbHW"
      }
    },
    {
      "cell_type": "code",
      "source": [
        "# BIBLIOTECAS IMPORTADAS\n",
        "import random\n",
        "\n",
        "# DECLARAÇÃO DE VARIÁVEIS\n",
        "nomes = {\n",
        "    \"frutas\": [\"banana\", \"maça\", \"kiwi\", \"melancia\", \"cupu-açu\", \"açai\"],\n",
        "    \"carros\": [\"ferrari\", \"ford\", \"toyota\", \"honda\", \"bmw\", \"tesla\"],\n",
        "    \"objetos\": [\"anel\", \"bandolim\", \"candelabro\", \"disquete\", \"extintor\", \"harpa\"]\n",
        "}\n",
        "\n",
        "resultado_categoria, resultado_palavra = palavra_aleatoria(nomes)\n",
        "tentativas = []\n",
        "palavra_escondida = [\"_\"] * len(resultado_palavra)\n",
        "preenchidas = [None] * len(resultado_palavra)\n",
        "letras_utilizadas = set()\n",
        "\n",
        "# FUNÇÕES CRIADAS\n",
        "def palavra_aleatoria(nomes):\n",
        "    categoria = random.choice(list(nomes.keys()))\n",
        "    palavra = random.choice(nomes[categoria])\n",
        "    return categoria, list(palavra)\n",
        "\n",
        "def checa_letra(palavra_advinhar, palavra_advinhada, letra):\n",
        "    acertou = False\n",
        "    erros = []\n",
        "    for i in range(len(palavra_advinhar)):\n",
        "        if palavra_advinhar[i] == letra:\n",
        "            palavra_advinhada[i] = letra\n",
        "            acertou = True\n",
        "        else:\n",
        "            erros.append(letra)\n",
        "    return palavra_advinhada, acertou, erros\n",
        "\n",
        "def verificacao(lista):\n",
        "    return \"_\" not in lista\n",
        "\n",
        "def verifica_letra_utilizada(letra, letras_utilizadas):\n",
        "    if letra in letras_utilizadas:\n",
        "        print(\"Você já tentou essa letra. Tente novamente.\")\n",
        "        return True\n",
        "    else:\n",
        "        letras_utilizadas.add(letra)\n",
        "        return False\n",
        "\n",
        "def forca(erros):\n",
        "    desenho = [\"\\\\\", \" \\\\\", \"  0\", \" /|\\\\\", \"  |\", \" / \\\\\"]\n",
        "    for i in range(erros):\n",
        "        print(desenho[i])\n",
        "\n",
        "# FUNÇÃO PARA JOGAR\n",
        "def jogar():\n",
        "    global palavra_escondida, letras_utilizadas, erros\n",
        "\n",
        "    print(f\"Categoria: {resultado_categoria}\")\n",
        "    print(f\"Quantidade de letras: {len(resultado_palavra)}\")\n",
        "\n",
        "    tentativas_maximas = 6\n",
        "    erros = 0\n",
        "\n",
        "    while \"_\" in palavra_escondida and erros < tentativas_maximas:\n",
        "        print(\"\\nPalavra atual: \" + \" \".join(palavra_escondida))\n",
        "        print(\"Letras utilizadas: \" + \", \".join(letras_utilizadas))\n",
        "        print(f\"Tentativas restantes: {tentativas_maximas - erros}\")\n",
        "        tentativa = input(\"\\nTente advinhar a palavra. Digite uma letra: \").lower()\n",
        "\n",
        "        if verifica_letra_utilizada(tentativa, letras_utilizadas):\n",
        "            continue\n",
        "\n",
        "        palavra_escondida, letra, erros_letra = checa_letra(resultado_palavra, palavra_escondida, tentativa)\n",
        "\n",
        "        if letra:\n",
        "            print(\" \".join(palavra_escondida))\n",
        "            print(f\"A letra {tentativa} está contida!\")\n",
        "        else:\n",
        "            print(f\"A letra {tentativa} não está contida na palavra a ser advinhada. Tente novamente\")\n",
        "            erros += 1\n",
        "            print(\"Erros: \", erros)\n",
        "            forca(erros)\n",
        "\n",
        "    if \"_\" not in palavra_escondida:\n",
        "        print(f\"\\nParabéns!! Você acertou a palavra sorteada: {''.join(palavra_escondida).upper()}\")\n",
        "    else:\n",
        "        print(\"Você errou muitas vezes! A palavra era:\", ''.join(resultado_palavra).upper())"
      ],
      "metadata": {
        "id": "enc1ijwcUm-l"
      },
      "execution_count": null,
      "outputs": []
    },
    {
      "cell_type": "markdown",
      "source": [
        "####Jogo"
      ],
      "metadata": {
        "id": "bgmhz6ORUnTN"
      }
    },
    {
      "cell_type": "code",
      "source": [
        "jogo_quatro = jogar()"
      ],
      "metadata": {
        "colab": {
          "base_uri": "https://localhost:8080/"
        },
        "id": "rRzrsI16SbDv",
        "outputId": "0f42ab8f-e2d7-4842-b7ff-44045354f656"
      },
      "execution_count": null,
      "outputs": [
        {
          "output_type": "stream",
          "name": "stdout",
          "text": [
            "Categoria: objetos\n",
            "Quantidade de letras: 8\n",
            "\n",
            "Palavra atual: _ _ _ _ _ _ _ _\n",
            "Letras utilizadas: \n",
            "Tentativas restantes: 6\n",
            "\n",
            "Tente advinhar a palavra. Digite uma letra: a\n",
            "_ a _ _ _ _ _ _\n",
            "A letra a está contida!\n",
            "\n",
            "Palavra atual: _ a _ _ _ _ _ _\n",
            "Letras utilizadas: a\n",
            "Tentativas restantes: 6\n",
            "\n",
            "Tente advinhar a palavra. Digite uma letra: e\n",
            "A letra e não está contida na palavra a ser advinhada. Tente novamente\n",
            "Erros:  1\n",
            "\\\n",
            "\n",
            "Palavra atual: _ a _ _ _ _ _ _\n",
            "Letras utilizadas: e, a\n",
            "Tentativas restantes: 5\n",
            "\n",
            "Tente advinhar a palavra. Digite uma letra: p\n",
            "A letra p não está contida na palavra a ser advinhada. Tente novamente\n",
            "Erros:  2\n",
            "\\\n",
            " \\\n",
            "\n",
            "Palavra atual: _ a _ _ _ _ _ _\n",
            "Letras utilizadas: p, e, a\n",
            "Tentativas restantes: 4\n",
            "\n",
            "Tente advinhar a palavra. Digite uma letra: r\n",
            "A letra r não está contida na palavra a ser advinhada. Tente novamente\n",
            "Erros:  3\n",
            "\\\n",
            " \\\n",
            "  0\n",
            "\n",
            "Palavra atual: _ a _ _ _ _ _ _\n",
            "Letras utilizadas: p, e, a, r\n",
            "Tentativas restantes: 3\n",
            "\n",
            "Tente advinhar a palavra. Digite uma letra: i\n",
            "_ a _ _ _ _ i _\n",
            "A letra i está contida!\n",
            "\n",
            "Palavra atual: _ a _ _ _ _ i _\n",
            "Letras utilizadas: i, a, r, e, p\n",
            "Tentativas restantes: 3\n",
            "\n",
            "Tente advinhar a palavra. Digite uma letra: o\n",
            "_ a _ _ o _ i _\n",
            "A letra o está contida!\n",
            "\n",
            "Palavra atual: _ a _ _ o _ i _\n",
            "Letras utilizadas: i, a, o, r, e, p\n",
            "Tentativas restantes: 3\n",
            "\n",
            "Tente advinhar a palavra. Digite uma letra: s\n",
            "A letra s não está contida na palavra a ser advinhada. Tente novamente\n",
            "Erros:  4\n",
            "\\\n",
            " \\\n",
            "  0\n",
            " /|\\\n",
            "\n",
            "Palavra atual: _ a _ _ o _ i _\n",
            "Letras utilizadas: i, a, s, o, r, e, p\n",
            "Tentativas restantes: 2\n",
            "\n",
            "Tente advinhar a palavra. Digite uma letra: m\n",
            "_ a _ _ o _ i m\n",
            "A letra m está contida!\n",
            "\n",
            "Palavra atual: _ a _ _ o _ i m\n",
            "Letras utilizadas: i, a, s, o, r, e, m, p\n",
            "Tentativas restantes: 2\n",
            "\n",
            "Tente advinhar a palavra. Digite uma letra: v\n",
            "A letra v não está contida na palavra a ser advinhada. Tente novamente\n",
            "Erros:  5\n",
            "\\\n",
            " \\\n",
            "  0\n",
            " /|\\\n",
            "  |\n",
            "\n",
            "Palavra atual: _ a _ _ o _ i m\n",
            "Letras utilizadas: i, a, v, s, o, r, e, m, p\n",
            "Tentativas restantes: 1\n",
            "\n",
            "Tente advinhar a palavra. Digite uma letra: n\n",
            "_ a n _ o _ i m\n",
            "A letra n está contida!\n",
            "\n",
            "Palavra atual: _ a n _ o _ i m\n",
            "Letras utilizadas: i, n, a, v, s, o, r, e, m, p\n",
            "Tentativas restantes: 1\n",
            "\n",
            "Tente advinhar a palavra. Digite uma letra: d\n",
            "_ a n d o _ i m\n",
            "A letra d está contida!\n",
            "\n",
            "Palavra atual: _ a n d o _ i m\n",
            "Letras utilizadas: i, d, n, a, v, s, o, r, e, m, p\n",
            "Tentativas restantes: 1\n",
            "\n",
            "Tente advinhar a palavra. Digite uma letra: l\n",
            "_ a n d o l i m\n",
            "A letra l está contida!\n",
            "\n",
            "Palavra atual: _ a n d o l i m\n",
            "Letras utilizadas: i, l, d, n, a, v, s, o, r, e, m, p\n",
            "Tentativas restantes: 1\n",
            "\n",
            "Tente advinhar a palavra. Digite uma letra: b\n",
            "b a n d o l i m\n",
            "A letra b está contida!\n",
            "\n",
            "Parabéns!! Você acertou a palavra sorteada: BANDOLIM\n"
          ]
        }
      ]
    },
    {
      "cell_type": "markdown",
      "source": [
        "##jogo cinco"
      ],
      "metadata": {
        "id": "7Wu9meJSSrSP"
      }
    },
    {
      "cell_type": "markdown",
      "source": [
        "####Código principal"
      ],
      "metadata": {
        "id": "tM6-22jdUrC0"
      }
    },
    {
      "cell_type": "code",
      "source": [
        "# BIBLIOTECAS IMPORTADAS\n",
        "import random\n",
        "\n",
        "# DECLARAÇÃO DE VARIÁVEIS\n",
        "nomes = {\n",
        "    \"frutas\": [\"banana\", \"maça\", \"kiwi\", \"melancia\", \"cupu-açu\", \"açai\"],\n",
        "    \"carros\": [\"ferrari\", \"ford\", \"toyota\", \"honda\", \"bmw\", \"tesla\"],\n",
        "    \"objetos\": [\"anel\", \"bandolim\", \"candelabro\", \"disquete\", \"extintor\", \"harpa\"]\n",
        "}\n",
        "\n",
        "resultado_categoria, resultado_palavra = palavra_aleatoria(nomes)\n",
        "tentativas = []\n",
        "palavra_escondida = [\"_\"] * len(resultado_palavra)\n",
        "preenchidas = [None] * len(resultado_palavra)\n",
        "letras_utilizadas = set()\n",
        "\n",
        "# FUNÇÕES CRIADAS\n",
        "def palavra_aleatoria(nomes):\n",
        "    categoria = random.choice(list(nomes.keys()))\n",
        "    palavra = random.choice(nomes[categoria])\n",
        "    return categoria, list(palavra)\n",
        "\n",
        "def checa_letra(palavra_advinhar, palavra_advinhada, letra):\n",
        "    acertou = False\n",
        "    erros = []\n",
        "    for i in range(len(palavra_advinhar)):\n",
        "        if palavra_advinhar[i] == letra:\n",
        "            palavra_advinhada[i] = letra\n",
        "            acertou = True\n",
        "        else:\n",
        "            erros.append(letra)\n",
        "    return palavra_advinhada, acertou, erros\n",
        "\n",
        "def verificacao(lista):\n",
        "    return \"_\" not in lista\n",
        "\n",
        "def verifica_letra_utilizada(letra, letras_utilizadas):\n",
        "    if letra in letras_utilizadas:\n",
        "        print(\"Você já tentou essa letra. Tente novamente.\")\n",
        "        return True\n",
        "    else:\n",
        "        letras_utilizadas.add(letra)\n",
        "        return False\n",
        "\n",
        "def forca(erros):\n",
        "    desenho = [\"\\\\\", \" \\\\\", \"  0\", \" /|\\\\\", \"  |\", \" / \\\\\"]\n",
        "    for i in range(erros):\n",
        "        print(desenho[i])\n",
        "\n",
        "# FUNÇÃO PARA JOGAR\n",
        "def jogar():\n",
        "    global palavra_escondida, letras_utilizadas, erros\n",
        "\n",
        "    print(f\"Categoria: {resultado_categoria}\")\n",
        "    print(f\"Quantidade de letras: {len(resultado_palavra)}\")\n",
        "\n",
        "    tentativas_maximas = 6\n",
        "    erros = 0\n",
        "\n",
        "    while \"_\" in palavra_escondida and erros < tentativas_maximas:\n",
        "        print(\"\\nPalavra atual: \" + \" \".join(palavra_escondida))\n",
        "        print(\"Letras utilizadas: \" + \", \".join(letras_utilizadas))\n",
        "        print(f\"Tentativas restantes: {tentativas_maximas - erros}\")\n",
        "        tentativa = input(\"\\nTente advinhar a palavra. Digite uma letra: \").lower()\n",
        "\n",
        "        if verifica_letra_utilizada(tentativa, letras_utilizadas):\n",
        "            continue\n",
        "\n",
        "        palavra_escondida, letra, erros_letra = checa_letra(resultado_palavra, palavra_escondida, tentativa)\n",
        "\n",
        "        if letra:\n",
        "            print(\" \".join(palavra_escondida))\n",
        "            print(f\"A letra {tentativa} está contida!\")\n",
        "        else:\n",
        "            print(f\"A letra {tentativa} não está contida na palavra a ser advinhada. Tente novamente\")\n",
        "            erros += 1\n",
        "            print(\"Erros: \", erros)\n",
        "            forca(erros)\n",
        "\n",
        "    if \"_\" not in palavra_escondida:\n",
        "        print(f\"\\nParabéns!! Você acertou a palavra sorteada: {''.join(palavra_escondida).upper()}\")\n",
        "    else:\n",
        "        print(\"Você errou muitas vezes! A palavra era:\", ''.join(resultado_palavra).upper())"
      ],
      "metadata": {
        "id": "MZq0hDbLUtNu"
      },
      "execution_count": null,
      "outputs": []
    },
    {
      "cell_type": "markdown",
      "source": [
        "####Jogo"
      ],
      "metadata": {
        "id": "-W5IkDWOUtj7"
      }
    },
    {
      "cell_type": "code",
      "source": [
        "jogo_cinco = jogar()"
      ],
      "metadata": {
        "colab": {
          "base_uri": "https://localhost:8080/"
        },
        "id": "7gUMspZxSde2",
        "outputId": "e3edb4bd-e8ac-48b0-a9c5-5632b2a7db45"
      },
      "execution_count": null,
      "outputs": [
        {
          "output_type": "stream",
          "name": "stdout",
          "text": [
            "Categoria: frutas\n",
            "Quantidade de letras: 8\n",
            "\n",
            "Palavra atual: _ _ _ _ _ _ _ _\n",
            "Letras utilizadas: \n",
            "Tentativas restantes: 6\n",
            "\n",
            "Tente advinhar a palavra. Digite uma letra: e\n",
            "A letra e não está contida na palavra a ser advinhada. Tente novamente\n",
            "Erros:  1\n",
            "\\\n",
            "\n",
            "Palavra atual: _ _ _ _ _ _ _ _\n",
            "Letras utilizadas: e\n",
            "Tentativas restantes: 5\n",
            "\n",
            "Tente advinhar a palavra. Digite uma letra: r\n",
            "A letra r não está contida na palavra a ser advinhada. Tente novamente\n",
            "Erros:  2\n",
            "\\\n",
            " \\\n",
            "\n",
            "Palavra atual: _ _ _ _ _ _ _ _\n",
            "Letras utilizadas: e, r\n",
            "Tentativas restantes: 4\n",
            "\n",
            "Tente advinhar a palavra. Digite uma letra: a\n",
            "_ _ _ _ _ a _ _\n",
            "A letra a está contida!\n",
            "\n",
            "Palavra atual: _ _ _ _ _ a _ _\n",
            "Letras utilizadas: e, a, r\n",
            "Tentativas restantes: 4\n",
            "\n",
            "Tente advinhar a palavra. Digite uma letra: p\n",
            "_ _ p _ _ a _ _\n",
            "A letra p está contida!\n",
            "\n",
            "Palavra atual: _ _ p _ _ a _ _\n",
            "Letras utilizadas: p, e, a, r\n",
            "Tentativas restantes: 4\n",
            "\n",
            "Tente advinhar a palavra. Digite uma letra: i\n",
            "A letra i não está contida na palavra a ser advinhada. Tente novamente\n",
            "Erros:  3\n",
            "\\\n",
            " \\\n",
            "  0\n",
            "\n",
            "Palavra atual: _ _ p _ _ a _ _\n",
            "Letras utilizadas: i, a, r, e, p\n",
            "Tentativas restantes: 3\n",
            "\n",
            "Tente advinhar a palavra. Digite uma letra: o\n",
            "A letra o não está contida na palavra a ser advinhada. Tente novamente\n",
            "Erros:  4\n",
            "\\\n",
            " \\\n",
            "  0\n",
            " /|\\\n",
            "\n",
            "Palavra atual: _ _ p _ _ a _ _\n",
            "Letras utilizadas: i, a, o, r, e, p\n",
            "Tentativas restantes: 2\n",
            "\n",
            "Tente advinhar a palavra. Digite uma letra: u\n",
            "_ u p u _ a _ u\n",
            "A letra u está contida!\n",
            "\n",
            "Palavra atual: _ u p u _ a _ u\n",
            "Letras utilizadas: u, i, a, o, r, e, p\n",
            "Tentativas restantes: 2\n",
            "\n",
            "Tente advinhar a palavra. Digite uma letra: -\n",
            "_ u p u - a _ u\n",
            "A letra - está contida!\n",
            "\n",
            "Palavra atual: _ u p u - a _ u\n",
            "Letras utilizadas: u, i, a, -, o, r, e, p\n",
            "Tentativas restantes: 2\n",
            "\n",
            "Tente advinhar a palavra. Digite uma letra: ç\n",
            "_ u p u - a ç u\n",
            "A letra ç está contida!\n",
            "\n",
            "Palavra atual: _ u p u - a ç u\n",
            "Letras utilizadas: u, i, a, -, o, r, e, ç, p\n",
            "Tentativas restantes: 2\n",
            "\n",
            "Tente advinhar a palavra. Digite uma letra: c\n",
            "c u p u - a ç u\n",
            "A letra c está contida!\n",
            "\n",
            "Parabéns!! Você acertou a palavra sorteada: CUPU-AÇU\n"
          ]
        }
      ]
    }
  ]
}