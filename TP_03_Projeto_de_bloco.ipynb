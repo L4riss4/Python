{
  "nbformat": 4,
  "nbformat_minor": 0,
  "metadata": {
    "colab": {
      "provenance": [],
      "authorship_tag": "ABX9TyONeXIeWtiuyqiJ37k3LCmF",
      "include_colab_link": true
    },
    "kernelspec": {
      "name": "python3",
      "display_name": "Python 3"
    },
    "language_info": {
      "name": "python"
    }
  },
  "cells": [
    {
      "cell_type": "markdown",
      "metadata": {
        "id": "view-in-github",
        "colab_type": "text"
      },
      "source": [
        "<a href=\"https://colab.research.google.com/github/L4riss4/Python/blob/main/TP_03_Projeto_de_bloco.ipynb\" target=\"_parent\"><img src=\"https://colab.research.google.com/assets/colab-badge.svg\" alt=\"Open In Colab\"/></a>"
      ]
    },
    {
      "cell_type": "markdown",
      "source": [
        "#TP 03 - Projeto de bloco\n",
        "Integração de banco de dados SQL com Python"
      ],
      "metadata": {
        "id": "K2ObgzW3W6e1"
      }
    },
    {
      "cell_type": "code",
      "execution_count": null,
      "metadata": {
        "id": "NUlha8FwjmJT"
      },
      "outputs": [],
      "source": [
        "#Importando biblioteca pandas\n",
        "import pandas as pd\n",
        "from tabulate import tabulate\n",
        "from datetime import datetime, timedelta"
      ]
    },
    {
      "cell_type": "code",
      "source": [
        "#Importando as tabelas geradas pelo MySQL\n",
        "df_cargos = pd.read_csv('tabela_cargos.csv', sep=';', encoding='latin1')\n",
        "df_departamentos = pd.read_csv('tabela_departamentos.csv', sep=';', encoding='latin1')\n",
        "df_dependentes = pd.read_csv('tabela_dependentes.csv', sep=';', encoding='latin1')\n",
        "df_funcionarios = pd.read_csv('tabela_funcionarios.csv', sep=';', encoding='latin1')\n",
        "df_historicosalarios = pd.read_csv('tabela_historicosalarios.csv', sep=';', encoding='latin1')\n",
        "\n",
        "#Renomeando coluna da tabela dependentes\n",
        "df_dependentes = df_dependentes.rename(columns={'Nome': 'Dependente'})\n",
        "\n",
        "#Adequando tipo de dado para formato AAAA/MM/DD\n",
        "df_historicosalarios['DataSalario'] = pd.to_datetime(df_historicosalarios['DataSalario'], format='%d/%m/%Y')\n",
        "\n",
        "#Função para tabulação de resultados\n",
        "def resultado_query (df, titulo):\n",
        "  print(f'{titulo} \\n')\n",
        "  print(tabulate(df, headers='keys', tablefmt='psql'))\n",
        "  print('\\n')"
      ],
      "metadata": {
        "collapsed": true,
        "id": "Y6eT3PU2m9nN"
      },
      "execution_count": null,
      "outputs": []
    },
    {
      "cell_type": "markdown",
      "source": [
        "###Listagem individual de tabelas em ordem crescente"
      ],
      "metadata": {
        "id": "KOAjloRPazFf"
      }
    },
    {
      "cell_type": "code",
      "source": [
        "#Ordenado por ordem alfabética\n",
        "funcionarios_rows = ['FuncionarioID', 'NomeFuncionario', 'Salario', 'CargoID']\n",
        "df_funcionarios_ordenado = df_funcionarios.sort_values(by='NomeFuncionario', ascending=True)\n",
        "df_funcionarios_ordenado = df_funcionarios_ordenado.loc[:, funcionarios_rows]\n",
        "resultado_query(df_funcionarios_ordenado, \"Funcionários por ordem alfabética\")"
      ],
      "metadata": {
        "colab": {
          "base_uri": "https://localhost:8080/"
        },
        "collapsed": true,
        "id": "s8rwwQIRVHDL",
        "outputId": "5d619425-5ede-40ab-9f56-c384f961c739"
      },
      "execution_count": null,
      "outputs": [
        {
          "output_type": "stream",
          "name": "stdout",
          "text": [
            "Funcionários por ordem alfabética \n",
            "\n",
            "+----+-----------------+-------------------+-----------+-----------+\n",
            "|    |   FuncionarioID | NomeFuncionario   |   Salario |   CargoID |\n",
            "|----+-----------------+-------------------+-----------+-----------|\n",
            "| 16 |              17 | Aline Pereira     |      4600 |         2 |\n",
            "|  3 |               4 | Ana Souza         |      2600 |         4 |\n",
            "| 13 |              14 | Anderson Silva    |      2800 |         4 |\n",
            "| 22 |              25 | Caio Waroy        |     28000 |         6 |\n",
            "|  9 |              10 | Camila Oliveira   |      1400 |         5 |\n",
            "|  2 |               3 | Carlos Oliveira   |      3600 |         4 |\n",
            "| 18 |              19 | Carolina Almeida  |      2900 |         4 |\n",
            "| 21 |              24 | Clarisse Xavier   |     10000 |         4 |\n",
            "| 20 |              23 | Eduardo Zobisch   |     30000 |         6 |\n",
            "|  5 |               6 | Fernanda Lima     |      3700 |         2 |\n",
            "| 19 |              20 | Gustavo Lima      |      1600 |         5 |\n",
            "| 14 |              15 | Isabela Ferreira  |      1500 |         5 |\n",
            "|  0 |               1 | Joao Silva        |      6000 |         1 |\n",
            "|  7 |               8 | Juliana Santos    |      5500 |         1 |\n",
            "|  6 |               7 | Lucas Pereira     |      4100 |         3 |\n",
            "|  1 |               2 | Maria Santos      |      3800 |         2 |\n",
            "| 10 |              11 | Mariana Oliveira  |      4300 |         3 |\n",
            "| 12 |              13 | Patricia Souza    |      5700 |         1 |\n",
            "| 15 |              16 | Paulo Costa       |      6000 |         3 |\n",
            "|  4 |               5 | Pedro Costa       |      1300 |         5 |\n",
            "| 11 |              12 | Rafael Santos     |      3800 |         2 |\n",
            "|  8 |               9 | Roberto Almeida   |      2700 |         4 |\n",
            "| 17 |              18 | Thiago Oliveira   |      6000 |         1 |\n",
            "+----+-----------------+-------------------+-----------+-----------+\n",
            "\n",
            "\n"
          ]
        }
      ]
    },
    {
      "cell_type": "code",
      "source": [
        "#Ordenado por ordem alfabética de nível\n",
        "df_cargos_ordenado = df_cargos.sort_values(by='Nivel', ascending=True)\n",
        "resultado_query(df_cargos_ordenado, \"Cargos por ordem alfabética de nível\")"
      ],
      "metadata": {
        "colab": {
          "base_uri": "https://localhost:8080/"
        },
        "collapsed": true,
        "id": "4lDjSjrHWIbf",
        "outputId": "d81d70bb-09ce-449d-8157-342c6c24afd7"
      },
      "execution_count": null,
      "outputs": [
        {
          "output_type": "stream",
          "name": "stdout",
          "text": [
            "Cargos por ordem alfabética de nível \n",
            "\n",
            "+----+-----------+---------------------------+---------------+---------+----------------+\n",
            "|    |   CargoID | Descricao                 |   SalarioBase | Nivel   | TipoContrato   |\n",
            "|----+-----------+---------------------------+---------------+---------+----------------|\n",
            "|  3 |         4 | Assistente administrativo |          1900 | Junior  | CLT            |\n",
            "|  4 |         5 | Estagiario                |           900 | Junior  | Estagio        |\n",
            "|  1 |         2 | Desenvolvedor             |          2000 | Pleno   | CLT            |\n",
            "|  2 |         3 | Analista de dados         |          4000 | Pleno   | PJ             |\n",
            "|  5 |         6 | Diretor executivo         |         10000 | Pleno   | Socio          |\n",
            "|  0 |         1 | Gerente                   |          5000 | Senior  | CLT            |\n",
            "+----+-----------+---------------------------+---------------+---------+----------------+\n",
            "\n",
            "\n"
          ]
        }
      ]
    },
    {
      "cell_type": "code",
      "source": [
        "#Ordenado por ordem alfabética\n",
        "df_departamentos_ordenado = df_departamentos.sort_values(by='NomeDepartamento', ascending=True)\n",
        "resultado_query(df_departamentos_ordenado, \"Departamentos por ordem alfabética\")"
      ],
      "metadata": {
        "collapsed": true,
        "id": "LP_IkOtWbYvR",
        "colab": {
          "base_uri": "https://localhost:8080/"
        },
        "outputId": "7169bf20-986b-4f1f-b16e-fce5b3b2ac76"
      },
      "execution_count": null,
      "outputs": [
        {
          "output_type": "stream",
          "name": "stdout",
          "text": [
            "Departamentos por ordem alfabética \n",
            "\n",
            "+----+------------------+--------------------+---------------------+-----------------------+\n",
            "|    |   DepartamentoID | NomeDepartamento   |   AndarDepartamento | ContatoDepartamento   |\n",
            "|----+------------------+--------------------+---------------------+-----------------------|\n",
            "|  5 |                6 | Diretoria          |                   6 | diret@empresa.com     |\n",
            "|  3 |                4 | Financeiro         |                   5 | finan@empresa.com     |\n",
            "|  2 |                3 | Marketing          |                   2 | mkt@empresa.com       |\n",
            "|  1 |                2 | RH                 |                   4 | rh@empresa.com        |\n",
            "|  0 |                1 | TI                 |                   1 | ti@empresa.com        |\n",
            "|  4 |                5 | Vendas             |                   3 | vendas@empresa.com    |\n",
            "+----+------------------+--------------------+---------------------+-----------------------+\n",
            "\n",
            "\n"
          ]
        }
      ]
    },
    {
      "cell_type": "code",
      "source": [
        "#Ordenado por ordem alfabética\n",
        "df_dependentes_ordenado = df_dependentes.sort_values(by='Dependente', ascending=True)\n",
        "resultado_query(df_dependentes_ordenado, \"Dependentes por ordem alfabética\")"
      ],
      "metadata": {
        "colab": {
          "base_uri": "https://localhost:8080/"
        },
        "collapsed": true,
        "id": "JzJa4bYkmwoT",
        "outputId": "6df17ea5-d8e2-4735-8730-197eb662d717"
      },
      "execution_count": null,
      "outputs": [
        {
          "output_type": "stream",
          "name": "stdout",
          "text": [
            "Dependentes por ordem alfabética \n",
            "\n",
            "+----+-----------------+----------------+-----------------+--------------+---------+\n",
            "|    |   FuncionarioID |   DependenteID | Dependente      | Parentesco   |   Idade |\n",
            "|----+-----------------+----------------+-----------------+--------------+---------|\n",
            "|  2 |               2 |            103 | Ana Santos      | Filha        |      10 |\n",
            "| 18 |              14 |            119 | Ana Silva       | Esposa       |      33 |\n",
            "| 13 |               9 |            114 | Antonio Almeida | Pai          |      70 |\n",
            "| 16 |              12 |            117 | Camila Santos   | Filha        |      16 |\n",
            "|  6 |               4 |            107 | Carla Souza     | Esposa       |      40 |\n",
            "| 21 |              17 |            122 | Daniel Pereira  | Filho        |      11 |\n",
            "| 15 |              11 |            116 | Diego Oliveira  | Pai          |      68 |\n",
            "| 10 |               6 |            111 | Gabriel Lima    | Marido       |      42 |\n",
            "| 17 |              13 |            118 | Guilherme Souza | Filho        |      13 |\n",
            "| 19 |              15 |            120 | Isabel Ferreira | Esposa       |      28 |\n",
            "|  3 |               2 |            104 | Joao Santos     | Marido       |      38 |\n",
            "|  8 |               5 |            109 | Juliana Costa   | Esposa       |      30 |\n",
            "| 24 |              20 |            125 | Laura Lima      | Esposa       |      37 |\n",
            "|  5 |               3 |            106 | Lucas Oliveira  | Filho        |       6 |\n",
            "| 23 |              19 |            124 | Luciana Almeida | Mãe          |      55 |\n",
            "| 14 |              10 |            115 | Luiza Oliveira  | Filha        |       9 |\n",
            "|  7 |               4 |            108 | Marcos Souza    | Filho        |      12 |\n",
            "| 27 |              25 |            128 | Marcos Waroy    | Filho        |      19 |\n",
            "| 20 |              16 |            121 | Maria Costa     | Mãe          |      65 |\n",
            "|  0 |               1 |            101 | Maria Silva     | Esposa       |      35 |\n",
            "|  9 |               5 |            110 | Mariana Costa   | Filha        |       7 |\n",
            "| 26 |              24 |            127 | Patrícia Xavier | Filha        |      20 |\n",
            "|  4 |               3 |            105 | Paula Oliveira  | Esposa       |      32 |\n",
            "| 22 |              18 |            123 | Pedro Oliveira  | Filho        |      14 |\n",
            "|  1 |               1 |            102 | Pedro Silva     | Filho        |       8 |\n",
            "| 12 |               7 |            113 | Rafaela Santos  | Filha        |      15 |\n",
            "| 25 |              23 |            126 | Ricardo Zobisch | Filho        |      17 |\n",
            "| 11 |               7 |            112 | Sophia Pereira  | Filha        |       5 |\n",
            "+----+-----------------+----------------+-----------------+--------------+---------+\n",
            "\n",
            "\n"
          ]
        }
      ]
    },
    {
      "cell_type": "code",
      "source": [
        "#Ordenado por salário de maneira crescente\n",
        "df_historicosalario_ordenado = df_historicosalarios.sort_values(by='ValorSalario', ascending=True)\n",
        "resultado_query(df_historicosalario_ordenado, \"Salário em ordem crescente\")"
      ],
      "metadata": {
        "colab": {
          "base_uri": "https://localhost:8080/"
        },
        "collapsed": true,
        "id": "md8M1xnwnZQo",
        "outputId": "2ac54782-cc82-4ecc-ece0-23f9aba6916b"
      },
      "execution_count": null,
      "outputs": [
        {
          "output_type": "stream",
          "name": "stdout",
          "text": [
            "Salário em ordem crescente \n",
            "\n",
            "+-----+---------------------+----------------+-------------+-----------------+\n",
            "|     | DataSalario         |   ValorSalario |   SalarioID |   FuncionarioID |\n",
            "|-----+---------------------+----------------+-------------+-----------------|\n",
            "|  25 | 2024-02-01 00:00:00 |        1035.89 |          26 |               5 |\n",
            "|  26 | 2024-03-01 00:00:00 |        1070.2  |          27 |               5 |\n",
            "|  28 | 2024-05-01 00:00:00 |        1200    |          29 |               5 |\n",
            "|  27 | 2024-04-01 00:00:00 |        1200    |          28 |               5 |\n",
            "|  29 | 2024-06-01 00:00:00 |        1300    |          30 |               5 |\n",
            "|  80 | 2024-03-01 00:00:00 |        1480.25 |          81 |              15 |\n",
            "|  78 | 2024-01-01 00:00:00 |        1500    |          79 |              15 |\n",
            "|  79 | 2024-02-01 00:00:00 |        1520.5  |          80 |              15 |\n",
            "|  83 | 2024-06-01 00:00:00 |        1550    |          84 |              15 |\n",
            "|  82 | 2024-05-01 00:00:00 |        1550    |          83 |              15 |\n",
            "|  81 | 2024-04-01 00:00:00 |        1550    |          82 |              15 |\n",
            "|  24 | 2024-01-01 00:00:00 |        1580.25 |          25 |               5 |\n",
            "| 110 | 2024-03-01 00:00:00 |        1580.25 |         111 |              20 |\n",
            "| 108 | 2024-01-01 00:00:00 |        1600    |         109 |              20 |\n",
            "| 109 | 2024-02-01 00:00:00 |        1620.5  |         110 |              20 |\n",
            "| 111 | 2024-04-01 00:00:00 |        1650    |         112 |              20 |\n",
            "| 112 | 2024-05-01 00:00:00 |        1675.75 |         113 |              20 |\n",
            "| 113 | 2024-06-01 00:00:00 |        1675.75 |         114 |              20 |\n",
            "|  19 | 2024-02-01 00:00:00 |        2035.89 |          20 |               4 |\n",
            "|  18 | 2024-01-01 00:00:00 |        2580.25 |          19 |               4 |\n",
            "|  21 | 2024-04-01 00:00:00 |        2600    |          22 |               4 |\n",
            "|  22 | 2024-05-01 00:00:00 |        2600    |          23 |               4 |\n",
            "|  23 | 2024-06-01 00:00:00 |        2600    |          24 |               4 |\n",
            "|  50 | 2024-03-01 00:00:00 |        2650.25 |          51 |               9 |\n",
            "|  48 | 2024-01-01 00:00:00 |        2700    |          49 |               9 |\n",
            "|  74 | 2024-03-01 00:00:00 |        2750.25 |          75 |              14 |\n",
            "|  49 | 2024-02-01 00:00:00 |        2750.5  |          50 |               9 |\n",
            "|  20 | 2024-03-01 00:00:00 |        2770.2  |          21 |               4 |\n",
            "|  72 | 2024-01-01 00:00:00 |        2800    |          73 |              14 |\n",
            "|  51 | 2024-04-01 00:00:00 |        2800    |          52 |               9 |\n",
            "| 104 | 2024-03-01 00:00:00 |        2850.25 |         105 |              19 |\n",
            "|  73 | 2024-02-01 00:00:00 |        2850.5  |          74 |              14 |\n",
            "|  53 | 2024-06-01 00:00:00 |        2850.75 |          54 |               9 |\n",
            "|  52 | 2024-05-01 00:00:00 |        2850.75 |          53 |               9 |\n",
            "|  75 | 2024-04-01 00:00:00 |        2900    |          76 |              14 |\n",
            "| 102 | 2024-01-01 00:00:00 |        2900    |         103 |              19 |\n",
            "| 103 | 2024-02-01 00:00:00 |        2950.5  |         104 |              19 |\n",
            "|  77 | 2024-06-01 00:00:00 |        2950.75 |          78 |              14 |\n",
            "|  76 | 2024-05-01 00:00:00 |        2950.75 |          77 |              14 |\n",
            "| 105 | 2024-04-01 00:00:00 |        3000    |         106 |              19 |\n",
            "|   7 | 2024-02-01 00:00:00 |        3035.89 |           8 |               2 |\n",
            "|  13 | 2024-02-01 00:00:00 |        3035.89 |          14 |               3 |\n",
            "| 107 | 2024-06-01 00:00:00 |        3050.75 |         108 |              19 |\n",
            "| 106 | 2024-05-01 00:00:00 |        3050.75 |         107 |              19 |\n",
            "|   6 | 2024-01-01 00:00:00 |        3500.25 |           7 |               2 |\n",
            "|  12 | 2024-01-01 00:00:00 |        3500.25 |          13 |               3 |\n",
            "|  30 | 2024-01-01 00:00:00 |        3580.25 |          31 |               6 |\n",
            "|  15 | 2024-04-01 00:00:00 |        3600    |          16 |               3 |\n",
            "|  16 | 2024-05-01 00:00:00 |        3600    |          17 |               3 |\n",
            "|  17 | 2024-06-01 00:00:00 |        3600    |          18 |               3 |\n",
            "|  14 | 2024-03-01 00:00:00 |        3600    |          15 |               3 |\n",
            "|  32 | 2024-03-01 00:00:00 |        3670.2  |          33 |               6 |\n",
            "|  33 | 2024-04-01 00:00:00 |        3700    |          34 |               6 |\n",
            "|  10 | 2024-05-01 00:00:00 |        3700    |          11 |               2 |\n",
            "|  11 | 2024-06-01 00:00:00 |        3700    |          12 |               2 |\n",
            "|   9 | 2024-04-01 00:00:00 |        3700.2  |          10 |               2 |\n",
            "|   8 | 2024-03-01 00:00:00 |        3700.2  |           9 |               2 |\n",
            "|  31 | 2024-02-01 00:00:00 |        3735.89 |          32 |               6 |\n",
            "|  35 | 2024-06-01 00:00:00 |        3747.05 |          36 |               6 |\n",
            "|  34 | 2024-05-01 00:00:00 |        3747.05 |          35 |               6 |\n",
            "|  62 | 2024-03-01 00:00:00 |        3750.25 |          63 |              12 |\n",
            "|  60 | 2024-01-01 00:00:00 |        3800    |          61 |              12 |\n",
            "|  61 | 2024-02-01 00:00:00 |        3850.5  |          62 |              12 |\n",
            "|  63 | 2024-04-01 00:00:00 |        3900    |          64 |              12 |\n",
            "|  65 | 2024-06-01 00:00:00 |        3950.75 |          66 |              12 |\n",
            "|  64 | 2024-05-01 00:00:00 |        3950.75 |          65 |              12 |\n",
            "|  38 | 2024-03-01 00:00:00 |        4075.75 |          39 |               7 |\n",
            "|  84 | 2024-01-01 00:00:00 |        4100    |          85 |              16 |\n",
            "|  36 | 2024-01-01 00:00:00 |        4100    |          37 |               7 |\n",
            "|  37 | 2024-02-01 00:00:00 |        4150.25 |          38 |               7 |\n",
            "|  85 | 2024-02-01 00:00:00 |        4150.5  |          86 |              16 |\n",
            "|  86 | 2024-03-01 00:00:00 |        4200    |          87 |              16 |\n",
            "|  40 | 2024-05-01 00:00:00 |        4200    |          41 |               7 |\n",
            "|  39 | 2024-04-01 00:00:00 |        4200    |          40 |               7 |\n",
            "|  41 | 2024-06-01 00:00:00 |        4200    |          42 |               7 |\n",
            "|  59 | 2024-06-01 00:00:00 |        4250.25 |          60 |              11 |\n",
            "|  58 | 2024-05-01 00:00:00 |        4250.25 |          59 |              11 |\n",
            "|  57 | 2024-04-01 00:00:00 |        4250.25 |          58 |              11 |\n",
            "|  56 | 2024-03-01 00:00:00 |        4250.25 |          57 |              11 |\n",
            "|  54 | 2024-01-01 00:00:00 |        4300    |          55 |              11 |\n",
            "|  55 | 2024-02-01 00:00:00 |        4350.5  |          56 |              11 |\n",
            "|  93 | 2024-04-01 00:00:00 |        4550.25 |          94 |              17 |\n",
            "|  94 | 2024-05-01 00:00:00 |        4550.25 |          95 |              17 |\n",
            "|  92 | 2024-03-01 00:00:00 |        4550.25 |          93 |              17 |\n",
            "|  95 | 2024-06-01 00:00:00 |        4550.25 |          96 |              17 |\n",
            "|  90 | 2024-01-01 00:00:00 |        4600    |          91 |              17 |\n",
            "|  91 | 2024-02-01 00:00:00 |        4650.5  |          92 |              17 |\n",
            "|   3 | 2024-04-01 00:00:00 |        5000    |           4 |               1 |\n",
            "|  44 | 2024-03-01 00:00:00 |        5450.75 |          45 |               8 |\n",
            "|  42 | 2024-01-01 00:00:00 |        5500    |          43 |               8 |\n",
            "|  43 | 2024-02-01 00:00:00 |        5600.25 |          44 |               8 |\n",
            "|  68 | 2024-03-01 00:00:00 |        5650.25 |          69 |              13 |\n",
            "|  66 | 2024-01-01 00:00:00 |        5700    |          67 |              13 |\n",
            "|  45 | 2024-04-01 00:00:00 |        5700    |          46 |               8 |\n",
            "|  67 | 2024-02-01 00:00:00 |        5750.5  |          68 |              13 |\n",
            "|   2 | 2024-03-01 00:00:00 |        5760.2  |           3 |               1 |\n",
            "|   1 | 2024-02-01 00:00:00 |        5780.1  |           2 |               1 |\n",
            "|   0 | 2024-01-01 00:00:00 |        5780.16 |           1 |               1 |\n",
            "|  69 | 2024-04-01 00:00:00 |        5800    |          70 |              13 |\n",
            "|  70 | 2024-05-01 00:00:00 |        5800    |          71 |              13 |\n",
            "|  71 | 2024-06-01 00:00:00 |        5800    |          72 |              13 |\n",
            "|  47 | 2024-06-01 00:00:00 |        5800.5  |          48 |               8 |\n",
            "|  46 | 2024-05-01 00:00:00 |        5800.5  |          47 |               8 |\n",
            "|  98 | 2024-03-01 00:00:00 |        5950.25 |          99 |              18 |\n",
            "|  88 | 2024-05-01 00:00:00 |        6000    |          89 |              16 |\n",
            "|  89 | 2024-06-01 00:00:00 |        6000    |          90 |              16 |\n",
            "|   4 | 2024-05-01 00:00:00 |        6000    |           5 |               1 |\n",
            "|  87 | 2024-04-01 00:00:00 |        6000    |          88 |              16 |\n",
            "|  96 | 2024-01-01 00:00:00 |        6000    |          97 |              18 |\n",
            "|  97 | 2024-02-01 00:00:00 |        6050.5  |          98 |              18 |\n",
            "| 101 | 2024-06-01 00:00:00 |        6100    |         102 |              18 |\n",
            "| 100 | 2024-05-01 00:00:00 |        6100    |         101 |              18 |\n",
            "|  99 | 2024-04-01 00:00:00 |        6100    |         100 |              18 |\n",
            "|   5 | 2024-06-01 00:00:00 |        6200    |           6 |               1 |\n",
            "| 122 | 2024-03-01 00:00:00 |        9900.25 |         123 |              24 |\n",
            "| 120 | 2024-01-01 00:00:00 |       10000    |         121 |              24 |\n",
            "| 121 | 2024-02-01 00:00:00 |       10100.5  |         122 |              24 |\n",
            "| 124 | 2024-05-01 00:00:00 |       10200    |         125 |              24 |\n",
            "| 123 | 2024-04-01 00:00:00 |       10200    |         124 |              24 |\n",
            "| 125 | 2024-06-01 00:00:00 |       10200    |         126 |              24 |\n",
            "| 128 | 2024-03-01 00:00:00 |       27900.2  |         129 |              25 |\n",
            "| 126 | 2024-01-01 00:00:00 |       28000    |         127 |              25 |\n",
            "| 127 | 2024-02-01 00:00:00 |       28100.5  |         128 |              25 |\n",
            "| 129 | 2024-04-01 00:00:00 |       28200    |         130 |              25 |\n",
            "| 131 | 2024-06-01 00:00:00 |       28200    |         132 |              25 |\n",
            "| 130 | 2024-05-01 00:00:00 |       28200    |         131 |              25 |\n",
            "| 116 | 2024-03-01 00:00:00 |       29500.2  |         117 |              23 |\n",
            "| 114 | 2024-01-01 00:00:00 |       30000    |         115 |              23 |\n",
            "| 115 | 2024-02-01 00:00:00 |       30500.5  |         116 |              23 |\n",
            "| 118 | 2024-05-01 00:00:00 |       31000    |         119 |              23 |\n",
            "| 117 | 2024-04-01 00:00:00 |       31000    |         118 |              23 |\n",
            "| 119 | 2024-06-01 00:00:00 |       31000    |         120 |              23 |\n",
            "+-----+---------------------+----------------+-------------+-----------------+\n",
            "\n",
            "\n"
          ]
        }
      ]
    },
    {
      "cell_type": "markdown",
      "source": [
        "###Consultas"
      ],
      "metadata": {
        "id": "l5DSjDJKprDZ"
      }
    },
    {
      "cell_type": "code",
      "source": [
        "#Unindo tabelas para a busca de informações\n",
        "df_func_cargos = pd.merge(df_funcionarios, df_cargos, on='CargoID', how='left')\n",
        "df_func_cargos_depart = pd.merge(df_func_cargos, df_departamentos, on='DepartamentoID', how='left')\n",
        "df_func_cargos_depart_dependente = pd.merge(df_func_cargos_depart, df_dependentes, on='FuncionarioID', how='left')"
      ],
      "metadata": {
        "id": "ybnD7Buf5YNA"
      },
      "execution_count": null,
      "outputs": []
    },
    {
      "cell_type": "markdown",
      "source": [
        "Listagem de funcionários com seus cargos, departamentos e os respectivos dependentes"
      ],
      "metadata": {
        "id": "yPlIjPbp5P8o"
      }
    },
    {
      "cell_type": "code",
      "source": [
        "#Colunas para exibição\n",
        "consulta_row = ['NomeFuncionario','Descricao','NomeDepartamento','Dependente', 'Parentesco']\n",
        "resultado = df_func_cargos_depart_dependente[consulta_row]\n",
        "resultado = resultado.groupby('NomeFuncionario')\n",
        "\n",
        "#Exibição da query\n",
        "for func, grupo in resultado:\n",
        "    print(f\"Funcionário: {func}\")\n",
        "    print(tabulate(grupo, headers='keys', tablefmt='psql'))\n",
        "    print(\"\\n\")"
      ],
      "metadata": {
        "colab": {
          "base_uri": "https://localhost:8080/"
        },
        "collapsed": true,
        "id": "-j0ev9EcritS",
        "outputId": "8bae0a95-d2d5-4c84-b8a1-0ae5dc6d1b72"
      },
      "execution_count": null,
      "outputs": [
        {
          "output_type": "stream",
          "name": "stdout",
          "text": [
            "Funcionário: Aline Pereira\n",
            "+----+-------------------+---------------+--------------------+----------------+--------------+\n",
            "|    | NomeFuncionario   | Descricao     | NomeDepartamento   | Dependente     | Parentesco   |\n",
            "|----+-------------------+---------------+--------------------+----------------+--------------|\n",
            "| 22 | Aline Pereira     | Desenvolvedor | RH                 | Daniel Pereira | Filho        |\n",
            "+----+-------------------+---------------+--------------------+----------------+--------------+\n",
            "\n",
            "\n",
            "Funcionário: Ana Souza\n",
            "+----+-------------------+---------------------------+--------------------+--------------+--------------+\n",
            "|    | NomeFuncionario   | Descricao                 | NomeDepartamento   | Dependente   | Parentesco   |\n",
            "|----+-------------------+---------------------------+--------------------+--------------+--------------|\n",
            "|  6 | Ana Souza         | Assistente administrativo | Financeiro         | Carla Souza  | Esposa       |\n",
            "|  7 | Ana Souza         | Assistente administrativo | Financeiro         | Marcos Souza | Filho        |\n",
            "+----+-------------------+---------------------------+--------------------+--------------+--------------+\n",
            "\n",
            "\n",
            "Funcionário: Anderson Silva\n",
            "+----+-------------------+---------------------------+--------------------+--------------+--------------+\n",
            "|    | NomeFuncionario   | Descricao                 | NomeDepartamento   | Dependente   | Parentesco   |\n",
            "|----+-------------------+---------------------------+--------------------+--------------+--------------|\n",
            "| 19 | Anderson Silva    | Assistente administrativo | Financeiro         | Ana Silva    | Esposa       |\n",
            "+----+-------------------+---------------------------+--------------------+--------------+--------------+\n",
            "\n",
            "\n",
            "Funcionário: Caio Waroy\n",
            "+----+-------------------+-------------------+--------------------+--------------+--------------+\n",
            "|    | NomeFuncionario   | Descricao         | NomeDepartamento   | Dependente   | Parentesco   |\n",
            "|----+-------------------+-------------------+--------------------+--------------+--------------|\n",
            "| 28 | Caio Waroy        | Diretor executivo | Diretoria          | Marcos Waroy | Filho        |\n",
            "+----+-------------------+-------------------+--------------------+--------------+--------------+\n",
            "\n",
            "\n",
            "Funcionário: Camila Oliveira\n",
            "+----+-------------------+-------------+--------------------+----------------+--------------+\n",
            "|    | NomeFuncionario   | Descricao   | NomeDepartamento   | Dependente     | Parentesco   |\n",
            "|----+-------------------+-------------+--------------------+----------------+--------------|\n",
            "| 15 | Camila Oliveira   | Estagiario  | TI                 | Luiza Oliveira | Filha        |\n",
            "+----+-------------------+-------------+--------------------+----------------+--------------+\n",
            "\n",
            "\n",
            "Funcionário: Carlos Oliveira\n",
            "+----+-------------------+---------------------------+--------------------+----------------+--------------+\n",
            "|    | NomeFuncionario   | Descricao                 | NomeDepartamento   | Dependente     | Parentesco   |\n",
            "|----+-------------------+---------------------------+--------------------+----------------+--------------|\n",
            "|  4 | Carlos Oliveira   | Assistente administrativo | Marketing          | Paula Oliveira | Esposa       |\n",
            "|  5 | Carlos Oliveira   | Assistente administrativo | Marketing          | Lucas Oliveira | Filho        |\n",
            "+----+-------------------+---------------------------+--------------------+----------------+--------------+\n",
            "\n",
            "\n",
            "Funcionário: Carolina Almeida\n",
            "+----+-------------------+---------------------------+--------------------+-----------------+--------------+\n",
            "|    | NomeFuncionario   | Descricao                 | NomeDepartamento   | Dependente      | Parentesco   |\n",
            "|----+-------------------+---------------------------+--------------------+-----------------+--------------|\n",
            "| 24 | Carolina Almeida  | Assistente administrativo | Financeiro         | Luciana Almeida | Mãe          |\n",
            "+----+-------------------+---------------------------+--------------------+-----------------+--------------+\n",
            "\n",
            "\n",
            "Funcionário: Clarisse Xavier\n",
            "+----+-------------------+---------------------------+--------------------+-----------------+--------------+\n",
            "|    | NomeFuncionario   | Descricao                 | NomeDepartamento   | Dependente      | Parentesco   |\n",
            "|----+-------------------+---------------------------+--------------------+-----------------+--------------|\n",
            "| 27 | Clarisse Xavier   | Assistente administrativo | Diretoria          | Patrícia Xavier | Filha        |\n",
            "+----+-------------------+---------------------------+--------------------+-----------------+--------------+\n",
            "\n",
            "\n",
            "Funcionário: Eduardo Zobisch\n",
            "+----+-------------------+-------------------+--------------------+-----------------+--------------+\n",
            "|    | NomeFuncionario   | Descricao         | NomeDepartamento   | Dependente      | Parentesco   |\n",
            "|----+-------------------+-------------------+--------------------+-----------------+--------------|\n",
            "| 26 | Eduardo Zobisch   | Diretor executivo | Diretoria          | Ricardo Zobisch | Filho        |\n",
            "+----+-------------------+-------------------+--------------------+-----------------+--------------+\n",
            "\n",
            "\n",
            "Funcionário: Fernanda Lima\n",
            "+----+-------------------+---------------+--------------------+--------------+--------------+\n",
            "|    | NomeFuncionario   | Descricao     | NomeDepartamento   | Dependente   | Parentesco   |\n",
            "|----+-------------------+---------------+--------------------+--------------+--------------|\n",
            "| 10 | Fernanda Lima     | Desenvolvedor | Vendas             | Gabriel Lima | Marido       |\n",
            "+----+-------------------+---------------+--------------------+--------------+--------------+\n",
            "\n",
            "\n",
            "Funcionário: Gustavo Lima\n",
            "+----+-------------------+-------------+--------------------+--------------+--------------+\n",
            "|    | NomeFuncionario   | Descricao   | NomeDepartamento   | Dependente   | Parentesco   |\n",
            "|----+-------------------+-------------+--------------------+--------------+--------------|\n",
            "| 25 | Gustavo Lima      | Estagiario  | TI                 | Laura Lima   | Esposa       |\n",
            "+----+-------------------+-------------+--------------------+--------------+--------------+\n",
            "\n",
            "\n",
            "Funcionário: Isabela Ferreira\n",
            "+----+-------------------+-------------+--------------------+-----------------+--------------+\n",
            "|    | NomeFuncionario   | Descricao   | NomeDepartamento   | Dependente      | Parentesco   |\n",
            "|----+-------------------+-------------+--------------------+-----------------+--------------|\n",
            "| 20 | Isabela Ferreira  | Estagiario  | TI                 | Isabel Ferreira | Esposa       |\n",
            "+----+-------------------+-------------+--------------------+-----------------+--------------+\n",
            "\n",
            "\n",
            "Funcionário: Joao Silva\n",
            "+----+-------------------+-------------+--------------------+--------------+--------------+\n",
            "|    | NomeFuncionario   | Descricao   | NomeDepartamento   | Dependente   | Parentesco   |\n",
            "|----+-------------------+-------------+--------------------+--------------+--------------|\n",
            "|  0 | Joao Silva        | Gerente     | TI                 | Maria Silva  | Esposa       |\n",
            "|  1 | Joao Silva        | Gerente     | TI                 | Pedro Silva  | Filho        |\n",
            "+----+-------------------+-------------+--------------------+--------------+--------------+\n",
            "\n",
            "\n",
            "Funcionário: Juliana Santos\n",
            "+----+-------------------+-------------+--------------------+--------------+--------------+\n",
            "|    | NomeFuncionario   | Descricao   | NomeDepartamento   |   Dependente |   Parentesco |\n",
            "|----+-------------------+-------------+--------------------+--------------+--------------|\n",
            "| 13 | Juliana Santos    | Gerente     | RH                 |          nan |          nan |\n",
            "+----+-------------------+-------------+--------------------+--------------+--------------+\n",
            "\n",
            "\n",
            "Funcionário: Lucas Pereira\n",
            "+----+-------------------+-------------------+--------------------+----------------+--------------+\n",
            "|    | NomeFuncionario   | Descricao         | NomeDepartamento   | Dependente     | Parentesco   |\n",
            "|----+-------------------+-------------------+--------------------+----------------+--------------|\n",
            "| 11 | Lucas Pereira     | Analista de dados | RH                 | Sophia Pereira | Filha        |\n",
            "| 12 | Lucas Pereira     | Analista de dados | RH                 | Rafaela Santos | Filha        |\n",
            "+----+-------------------+-------------------+--------------------+----------------+--------------+\n",
            "\n",
            "\n",
            "Funcionário: Maria Santos\n",
            "+----+-------------------+---------------+--------------------+--------------+--------------+\n",
            "|    | NomeFuncionario   | Descricao     | NomeDepartamento   | Dependente   | Parentesco   |\n",
            "|----+-------------------+---------------+--------------------+--------------+--------------|\n",
            "|  2 | Maria Santos      | Desenvolvedor | RH                 | Ana Santos   | Filha        |\n",
            "|  3 | Maria Santos      | Desenvolvedor | RH                 | Joao Santos  | Marido       |\n",
            "+----+-------------------+---------------+--------------------+--------------+--------------+\n",
            "\n",
            "\n",
            "Funcionário: Mariana Oliveira\n",
            "+----+-------------------+-------------------+--------------------+----------------+--------------+\n",
            "|    | NomeFuncionario   | Descricao         | NomeDepartamento   | Dependente     | Parentesco   |\n",
            "|----+-------------------+-------------------+--------------------+----------------+--------------|\n",
            "| 16 | Mariana Oliveira  | Analista de dados | Marketing          | Diego Oliveira | Pai          |\n",
            "+----+-------------------+-------------------+--------------------+----------------+--------------+\n",
            "\n",
            "\n",
            "Funcionário: Patricia Souza\n",
            "+----+-------------------+-------------+--------------------+-----------------+--------------+\n",
            "|    | NomeFuncionario   | Descricao   | NomeDepartamento   | Dependente      | Parentesco   |\n",
            "|----+-------------------+-------------+--------------------+-----------------+--------------|\n",
            "| 18 | Patricia Souza    | Gerente     | Marketing          | Guilherme Souza | Filho        |\n",
            "+----+-------------------+-------------+--------------------+-----------------+--------------+\n",
            "\n",
            "\n",
            "Funcionário: Paulo Costa\n",
            "+----+-------------------+-------------------+--------------------+--------------+--------------+\n",
            "|    | NomeFuncionario   | Descricao         | NomeDepartamento   | Dependente   | Parentesco   |\n",
            "|----+-------------------+-------------------+--------------------+--------------+--------------|\n",
            "| 21 | Paulo Costa       | Analista de dados | Vendas             | Maria Costa  | Mãe          |\n",
            "+----+-------------------+-------------------+--------------------+--------------+--------------+\n",
            "\n",
            "\n",
            "Funcionário: Pedro Costa\n",
            "+----+-------------------+-------------+--------------------+---------------+--------------+\n",
            "|    | NomeFuncionario   | Descricao   | NomeDepartamento   | Dependente    | Parentesco   |\n",
            "|----+-------------------+-------------+--------------------+---------------+--------------|\n",
            "|  8 | Pedro Costa       | Estagiario  | TI                 | Juliana Costa | Esposa       |\n",
            "|  9 | Pedro Costa       | Estagiario  | TI                 | Mariana Costa | Filha        |\n",
            "+----+-------------------+-------------+--------------------+---------------+--------------+\n",
            "\n",
            "\n",
            "Funcionário: Rafael Santos\n",
            "+----+-------------------+---------------+--------------------+---------------+--------------+\n",
            "|    | NomeFuncionario   | Descricao     | NomeDepartamento   | Dependente    | Parentesco   |\n",
            "|----+-------------------+---------------+--------------------+---------------+--------------|\n",
            "| 17 | Rafael Santos     | Desenvolvedor | Vendas             | Camila Santos | Filha        |\n",
            "+----+-------------------+---------------+--------------------+---------------+--------------+\n",
            "\n",
            "\n",
            "Funcionário: Roberto Almeida\n",
            "+----+-------------------+---------------------------+--------------------+-----------------+--------------+\n",
            "|    | NomeFuncionario   | Descricao                 | NomeDepartamento   | Dependente      | Parentesco   |\n",
            "|----+-------------------+---------------------------+--------------------+-----------------+--------------|\n",
            "| 14 | Roberto Almeida   | Assistente administrativo | Financeiro         | Antonio Almeida | Pai          |\n",
            "+----+-------------------+---------------------------+--------------------+-----------------+--------------+\n",
            "\n",
            "\n",
            "Funcionário: Thiago Oliveira\n",
            "+----+-------------------+-------------+--------------------+----------------+--------------+\n",
            "|    | NomeFuncionario   | Descricao   | NomeDepartamento   | Dependente     | Parentesco   |\n",
            "|----+-------------------+-------------+--------------------+----------------+--------------|\n",
            "| 23 | Thiago Oliveira   | Gerente     | Financeiro         | Pedro Oliveira | Filho        |\n",
            "+----+-------------------+-------------+--------------------+----------------+--------------+\n",
            "\n",
            "\n"
          ]
        }
      ]
    },
    {
      "cell_type": "markdown",
      "source": [
        "Listar os funcionários que tiveram aumento salarial nos últimos 3 meses."
      ],
      "metadata": {
        "id": "Kj2jHvyT5RH7"
      }
    },
    {
      "cell_type": "code",
      "source": [
        "#Concatenando tabela de salarios\n",
        "df_historico_funcionario = pd.merge(df_funcionarios, df_historicosalarios, on='FuncionarioID', how='left')\n",
        "\n",
        "#Recebendo data atual\n",
        "data_atual = datetime.strptime('2024/06/01','%Y/%m/%d')\n",
        "tres_meses = data_atual - timedelta(days=90)\n",
        "\n",
        "#Separando salário dos últimos 3 meses\n",
        "df_ultimos_salarios = df_historico_funcionario[df_historico_funcionario['DataSalario'] >= tres_meses]\n",
        "\n",
        "#Aumento salarial\n",
        "funcionarios_aumento = []\n",
        "\n",
        "#verificando se valores estão aumentando ou continuando os mesmos\n",
        "for func_id, grupo in df_ultimos_salarios.groupby('FuncionarioID'):\n",
        "  if grupo['ValorSalario'].iloc[-1] > grupo['ValorSalario'].iloc[0]:\n",
        "    funcionarios_aumento.append(func_id)\n",
        "\n",
        "#Dataframe com funcionários que tiveram aumento de salário\n",
        "df_funcionarios_com_aumento = df_funcionarios[df_funcionarios['FuncionarioID'].isin(funcionarios_aumento)]\n",
        "\n",
        "#Colunas para exibição\n",
        "consulta_dois_row = ['FuncionarioID', 'NomeFuncionario', 'Salario']\n",
        "resultado = df_funcionarios_com_aumento[consulta_dois_row]\n",
        "\n",
        "resultado_query(resultado, \"Funcionários que tiveram aumento salarial nos últimos 3 meses:\")"
      ],
      "metadata": {
        "colab": {
          "base_uri": "https://localhost:8080/"
        },
        "id": "EE_KeyFm5ViF",
        "outputId": "3bc65559-f785-4344-9b8b-a72910e3e2db",
        "collapsed": true
      },
      "execution_count": null,
      "outputs": [
        {
          "output_type": "stream",
          "name": "stdout",
          "text": [
            "Funcionários que tiveram aumento salarial nos últimos 3 meses: \n",
            "\n",
            "+----+-----------------+-------------------+-----------+\n",
            "|    |   FuncionarioID | NomeFuncionario   |   Salario |\n",
            "|----+-----------------+-------------------+-----------|\n",
            "|  0 |               1 | Joao Silva        |      6000 |\n",
            "|  4 |               5 | Pedro Costa       |      1300 |\n",
            "|  5 |               6 | Fernanda Lima     |      3700 |\n",
            "|  7 |               8 | Juliana Santos    |      5500 |\n",
            "|  8 |               9 | Roberto Almeida   |      2700 |\n",
            "| 11 |              12 | Rafael Santos     |      3800 |\n",
            "| 13 |              14 | Anderson Silva    |      2800 |\n",
            "| 18 |              19 | Carolina Almeida  |      2900 |\n",
            "| 19 |              20 | Gustavo Lima      |      1600 |\n",
            "+----+-----------------+-------------------+-----------+\n",
            "\n",
            "\n"
          ]
        }
      ]
    },
    {
      "cell_type": "markdown",
      "source": [
        "Listar média de idade dos filhos dos funcionários do departamento"
      ],
      "metadata": {
        "id": "nwqdneAWjTQX"
      }
    },
    {
      "cell_type": "code",
      "source": [
        "#Concatenação de tabelas\n",
        "df_filhos_funcionarios = pd.merge(df_funcionarios, df_dependentes, on='FuncionarioID', how='left')\n",
        "\n",
        "#Seleção apenas dos filhos\n",
        "df_filhos = df_filhos_funcionarios[(df_filhos_funcionarios['Parentesco'] == \"Filho\") | (df_filhos_funcionarios['Parentesco']== \"Filha\")]\n",
        "\n",
        "#Média das idades\n",
        "media_idade_filhos = df_filhos[\"Idade\"].mean()\n",
        "\n",
        "#Seleção de colunas para exibição de dataframe\n",
        "colunas_consulta = ['NomeFuncionario', 'Dependente', 'Parentesco', 'Idade']\n",
        "df_filhos = df_filhos[colunas_consulta]\n",
        "\n",
        "#Resultados\n",
        "resultado_query(df_filhos, \"Mapeamento filhos funcionarios\")\n",
        "print(f\"Média de idade dos filhos dos funcionários: {media_idade_filhos:.2f}\")"
      ],
      "metadata": {
        "colab": {
          "base_uri": "https://localhost:8080/"
        },
        "collapsed": true,
        "id": "OzQNXEfBMHon",
        "outputId": "0f172627-e87f-4452-991d-ff300ad424e6"
      },
      "execution_count": null,
      "outputs": [
        {
          "output_type": "stream",
          "name": "stdout",
          "text": [
            "Mapeamento filhos funcionarios \n",
            "\n",
            "+----+-------------------+-----------------+--------------+---------+\n",
            "|    | NomeFuncionario   | Dependente      | Parentesco   |   Idade |\n",
            "|----+-------------------+-----------------+--------------+---------|\n",
            "|  1 | Joao Silva        | Pedro Silva     | Filho        |       8 |\n",
            "|  2 | Maria Santos      | Ana Santos      | Filha        |      10 |\n",
            "|  5 | Carlos Oliveira   | Lucas Oliveira  | Filho        |       6 |\n",
            "|  7 | Ana Souza         | Marcos Souza    | Filho        |      12 |\n",
            "|  9 | Pedro Costa       | Mariana Costa   | Filha        |       7 |\n",
            "| 11 | Lucas Pereira     | Sophia Pereira  | Filha        |       5 |\n",
            "| 12 | Lucas Pereira     | Rafaela Santos  | Filha        |      15 |\n",
            "| 15 | Camila Oliveira   | Luiza Oliveira  | Filha        |       9 |\n",
            "| 17 | Rafael Santos     | Camila Santos   | Filha        |      16 |\n",
            "| 18 | Patricia Souza    | Guilherme Souza | Filho        |      13 |\n",
            "| 22 | Aline Pereira     | Daniel Pereira  | Filho        |      11 |\n",
            "| 23 | Thiago Oliveira   | Pedro Oliveira  | Filho        |      14 |\n",
            "| 26 | Eduardo Zobisch   | Ricardo Zobisch | Filho        |      17 |\n",
            "| 27 | Clarisse Xavier   | Patrícia Xavier | Filha        |      20 |\n",
            "| 28 | Caio Waroy        | Marcos Waroy    | Filho        |      19 |\n",
            "+----+-------------------+-----------------+--------------+---------+\n",
            "\n",
            "\n",
            "Média de idade dos filhos dos funcionários: 12.13\n"
          ]
        }
      ]
    },
    {
      "cell_type": "markdown",
      "source": [
        "Listar qual estagiário tem filho"
      ],
      "metadata": {
        "id": "Wg_5zi7nkpnR"
      }
    },
    {
      "cell_type": "code",
      "source": [
        "#Seleção apenas dos filhos\n",
        "df_filhos = df_filhos_funcionarios[(df_filhos_funcionarios['CargoID'] == 5) & (df_filhos_funcionarios['Parentesco']== \"Filha\")]\n",
        "\n",
        "#Seleção de colunas para exibição de dataframe\n",
        "colunas_consulta = ['NomeFuncionario','CargoID', 'Dependente', 'Parentesco', 'Idade']\n",
        "df_filhos = df_filhos[colunas_consulta]\n",
        "\n",
        "#Resultados\n",
        "resultado_query(df_filhos, \"Mapeamento filhos estagiários\")"
      ],
      "metadata": {
        "colab": {
          "base_uri": "https://localhost:8080/"
        },
        "collapsed": true,
        "id": "LVgIOzmUkvVf",
        "outputId": "d46b12da-67af-43b5-c36b-1190e132c738"
      },
      "execution_count": null,
      "outputs": [
        {
          "output_type": "stream",
          "name": "stdout",
          "text": [
            "Mapeamento filhos estagiários \n",
            "\n",
            "+----+-------------------+-----------+----------------+--------------+---------+\n",
            "|    | NomeFuncionario   |   CargoID | Dependente     | Parentesco   |   Idade |\n",
            "|----+-------------------+-----------+----------------+--------------+---------|\n",
            "|  9 | Pedro Costa       |         5 | Mariana Costa  | Filha        |       7 |\n",
            "| 15 | Camila Oliveira   |         5 | Luiza Oliveira | Filha        |       9 |\n",
            "+----+-------------------+-----------+----------------+--------------+---------+\n",
            "\n",
            "\n"
          ]
        }
      ]
    },
    {
      "cell_type": "markdown",
      "source": [
        "Listar qual funcionário teve a média salarial mais alta"
      ],
      "metadata": {
        "id": "vauuxU4bmDDn"
      }
    },
    {
      "cell_type": "code",
      "source": [
        "# Selecionar as colunas para exibição\n",
        "colunas_exibicao = ['ValorSalario', 'FuncionarioID']\n",
        "df_historicosalarios = df_historicosalarios[colunas_exibicao]\n",
        "# Agrupar por FuncionarioID\n",
        "df_agrupado = df_historicosalarios.groupby('FuncionarioID').mean('ValorSalario')\n",
        "df_agrupado = df_agrupado.round(2)\n",
        "# Exibir resultado\n",
        "df_agrupado = df_agrupado.rename(columns={'ValorSalario': 'MediaSalarial'})\n",
        "print(df_agrupado)"
      ],
      "metadata": {
        "colab": {
          "base_uri": "https://localhost:8080/"
        },
        "collapsed": true,
        "id": "PqqFYhq5ySgq",
        "outputId": "48eb5678-a005-4703-b8fb-90d7ff18573d"
      },
      "execution_count": null,
      "outputs": [
        {
          "output_type": "stream",
          "name": "stdout",
          "text": [
            "               MediaSalarial\n",
            "FuncionarioID               \n",
            "1                    5753.41\n",
            "2                    3556.09\n",
            "3                    3489.36\n",
            "4                    2531.06\n",
            "5                    1231.06\n",
            "6                    3696.74\n",
            "7                    4154.33\n",
            "8                    5642.00\n",
            "9                    2767.04\n",
            "11                   4275.25\n",
            "12                   3867.04\n",
            "13                   5750.12\n",
            "14                   2867.04\n",
            "15                   1525.12\n",
            "16                   5075.08\n",
            "17                   4575.25\n",
            "18                   6050.12\n",
            "19                   2967.04\n",
            "20                   1633.71\n",
            "23                  30500.12\n",
            "24                  10100.12\n",
            "25                  28100.12\n"
          ]
        }
      ]
    },
    {
      "cell_type": "markdown",
      "source": [
        "Listar o analista que possui duas filhas"
      ],
      "metadata": {
        "id": "IyzVuLqiKn-2"
      }
    },
    {
      "cell_type": "code",
      "source": [
        "#Seleção apenas dos filhos\n",
        "df_filhos = df_filhos_funcionarios[(df_filhos_funcionarios['CargoID'] == 3) & (df_filhos_funcionarios['Parentesco']== \"Filha\")]\n",
        "\n",
        "#Seleção de colunas para exibição de dataframe\n",
        "colunas_consulta = ['NomeFuncionario','CargoID', 'Dependente', 'Parentesco', 'Idade']\n",
        "df_filhos = df_filhos[colunas_consulta]\n",
        "\n",
        "#Resultados\n",
        "resultado_query(df_filhos, \"Mapeamento filhas analista\")"
      ],
      "metadata": {
        "colab": {
          "base_uri": "https://localhost:8080/"
        },
        "collapsed": true,
        "id": "w6-gj7pwKsut",
        "outputId": "a7569c36-7412-498e-fd26-247399983ee0"
      },
      "execution_count": null,
      "outputs": [
        {
          "output_type": "stream",
          "name": "stdout",
          "text": [
            "Mapeamento filhas analista \n",
            "\n",
            "+----+-------------------+-----------+----------------+--------------+---------+\n",
            "|    | NomeFuncionario   |   CargoID | Dependente     | Parentesco   |   Idade |\n",
            "|----+-------------------+-----------+----------------+--------------+---------|\n",
            "| 11 | Lucas Pereira     |         3 | Sophia Pereira | Filha        |       5 |\n",
            "| 12 | Lucas Pereira     |         3 | Rafaela Santos | Filha        |      15 |\n",
            "+----+-------------------+-----------+----------------+--------------+---------+\n",
            "\n",
            "\n"
          ]
        }
      ]
    },
    {
      "cell_type": "markdown",
      "source": [
        "Listar o analista que tem o salário mais alto e que ganha entre 5000 e 9000"
      ],
      "metadata": {
        "id": "WnvM711lLWC0"
      }
    },
    {
      "cell_type": "code",
      "source": [
        "#Listando apenas os analistas com salário entre 5000 e 9000\n",
        "df_analistas = df_funcionarios[(df_funcionarios['CargoID'] == 3) & ((df_funcionarios['Salario'] > 5000) & (df_funcionarios['Salario'] < 9000))]\n",
        "\n",
        "#Exibindo resultados\n",
        "row_exibicao = ['NomeFuncionario', 'Salario', 'TempoEmpresa','DepartamentoID']\n",
        "df_analistas = df_analistas[row_exibicao]\n",
        "\n",
        "resultado_query(df_analistas, \"Analistas com salário entre 5000 e 9000\")"
      ],
      "metadata": {
        "colab": {
          "base_uri": "https://localhost:8080/"
        },
        "collapsed": true,
        "id": "t2yPzSVqLcDE",
        "outputId": "5758eee1-75b5-497d-fd3a-8c9cd51b9237"
      },
      "execution_count": null,
      "outputs": [
        {
          "output_type": "stream",
          "name": "stdout",
          "text": [
            "Analistas com salário entre 5000 e 9000 \n",
            "\n",
            "+----+-------------------+-----------+----------------+------------------+\n",
            "|    | NomeFuncionario   |   Salario |   TempoEmpresa |   DepartamentoID |\n",
            "|----+-------------------+-----------+----------------+------------------|\n",
            "| 15 | Paulo Costa       |      6000 |              2 |                5 |\n",
            "+----+-------------------+-----------+----------------+------------------+\n",
            "\n",
            "\n"
          ]
        }
      ]
    },
    {
      "cell_type": "markdown",
      "source": [
        "Listar o departamento com maior número de dependentes"
      ],
      "metadata": {
        "id": "HvyIG5JjWkS5"
      }
    },
    {
      "cell_type": "code",
      "source": [
        "#Concatenando dfs\n",
        "df_depar_func = pd.merge(df_funcionarios, df_departamentos, on='DepartamentoID', how='left')\n",
        "df_depar_depen = pd.merge(df_depar_func, df_dependentes, on='FuncionarioID', how='left')\n",
        "\n",
        "#Dividir por departamento\n",
        "df_agrupado_departamento = df_depar_depen.groupby('DepartamentoID')['Dependente'].count().reset_index()\n",
        "\n",
        "#Indicação do departamento com maior número de dependentes\n",
        "df_depen_depar_max = df_agrupado_departamento.max()\n",
        "\n",
        "#Resultado\n",
        "print(df_depen_depar_max)"
      ],
      "metadata": {
        "colab": {
          "base_uri": "https://localhost:8080/"
        },
        "collapsed": true,
        "id": "2lwT-eHEO234",
        "outputId": "09478d50-5c02-4bdf-9ae3-a842345cbb19"
      },
      "execution_count": null,
      "outputs": [
        {
          "output_type": "stream",
          "name": "stdout",
          "text": [
            "DepartamentoID    6\n",
            "Dependente        7\n",
            "dtype: int64\n"
          ]
        }
      ]
    },
    {
      "cell_type": "markdown",
      "source": [
        "Listar a média de salário por departamento"
      ],
      "metadata": {
        "id": "acSIsdSVXLHo"
      }
    },
    {
      "cell_type": "code",
      "source": [
        "#Dividir por departamento e calcular média salarial\n",
        "df_salario_depar = df_depar_func.groupby('DepartamentoID')['Salario'].mean().reset_index()\n",
        "df_salario_depar['Salario'] = df_salario_depar['Salario'].round(2)\n",
        "\n",
        "#Departamento com maior média salarial\n",
        "df_depar_sal_max = df_salario_depar.max()\n",
        "\n",
        "#Resultado\n",
        "print(df_depar_sal_max)"
      ],
      "metadata": {
        "colab": {
          "base_uri": "https://localhost:8080/"
        },
        "id": "7tQ7wGxMXPrh",
        "outputId": "6a0addb5-1d4f-4e0b-bd2d-35ff633df022"
      },
      "execution_count": null,
      "outputs": [
        {
          "output_type": "stream",
          "name": "stdout",
          "text": [
            "DepartamentoID        6.00\n",
            "Salario           22666.67\n",
            "dtype: float64\n"
          ]
        }
      ]
    }
  ]
}