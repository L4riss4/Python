{
  "cells": [
    {
      "cell_type": "markdown",
      "metadata": {
        "id": "view-in-github",
        "colab_type": "text"
      },
      "source": [
        "<a href=\"https://colab.research.google.com/github/L4riss4/Python/blob/main/TP_01_Projeto_de_bloco.ipynb\" target=\"_parent\"><img src=\"https://colab.research.google.com/assets/colab-badge.svg\" alt=\"Open In Colab\"/></a>"
      ]
    },
    {
      "cell_type": "markdown",
      "metadata": {
        "id": "qsR45flH9i5z"
      },
      "source": [
        "#TP 01"
      ]
    },
    {
      "cell_type": "markdown",
      "metadata": {
        "id": "Agrldgy_9g0B"
      },
      "source": [
        "Desenvolver um sistema de gestão de tarefas que permita ao usuário adicionar, listar, marcar como concluída e remover tarefas. O programa utilizará loops, manipulação de listas e funções para realizar essas operações."
      ]
    },
    {
      "cell_type": "code",
      "execution_count": null,
      "metadata": {
        "id": "tDLrHAAc-hHP"
      },
      "outputs": [],
      "source": [
        "#Declaração da lista de tarefas e id\n",
        "tarefas = []\n",
        "id = 0\n",
        "\n",
        "#Função responsável por criar as tarefas e armazenar os dados na lista\n",
        "def cria_tarefa():\n",
        "  #Declara ID como global pois seu número é incrementado a cada novo registro\n",
        "  global id\n",
        "  #Informações recebidas pelo usuário\n",
        "  titulo = input(\"Título da tarefa: \")\n",
        "  descricao = input(\"Descrição da tarefa: \")\n",
        "  prazo = input(\"Defina a data do prazo: \")\n",
        "  #Urgencia é definida pelo usuário ao escolher entre as 3 opções disponíveis\n",
        "  urgencia = input(\"Digite o nível de urgência: \\n1-Muito urgente 2-Pouco urgente 3-Nada urgente: \")\n",
        "  #Status padrão é definido como não concluído ao criar uma nova tarefa\n",
        "  status= \"Não concluído\"\n",
        "\n",
        "#Alteração de urgência com base na escolha do usuário\n",
        "  if urgencia == \"1\":\n",
        "    urgencia = \"Muito urgente\"\n",
        "  elif urgencia == \"2\":\n",
        "    urgencia = \"Pouco urgente\"\n",
        "  elif urgencia == \"3\":\n",
        "    urgencia = \"Nada urgente\"\n",
        "  else:\n",
        "    urgencia = \"n/a\"\n",
        "#Incrementação do ID das tarefas\n",
        "  id += 1\n",
        "#Armazenamento de dados na lista\n",
        "  tarefas.append((id, titulo, descricao, prazo, urgencia,status))\n",
        "#Devolução do status da ação ao usuário e visualização das informações salvas\n",
        "  print(\"Tarefa criada com sucesso!\")\n",
        "  print(f\"\\nInformações salvas: \\nID: {id} \\nTítulo: {titulo} \\nDescrição: {descricao} \\nPrazo: {prazo} \\nUrgência: {urgencia} \\nStatus: {status}\")"
      ]
    },
    {
      "cell_type": "code",
      "execution_count": null,
      "metadata": {
        "id": "ZDfIdWitB1gX"
      },
      "outputs": [],
      "source": [
        "def lista_tarefas():\n",
        "  for id,titulo, descricao, prazo, urgencia, status in tarefas:\n",
        "    print(\"------------------------\")\n",
        "    print(f\"ID:{id} \\nTÍTULO:{titulo} \\nURGÊNCIA: {urgencia} \\nPRAZO: {prazo} \\nSTATUS: {status}\")\n",
        "    print(\"------------------------\")"
      ]
    },
    {
      "cell_type": "code",
      "execution_count": null,
      "metadata": {
        "id": "G8nxjUpGEjUf"
      },
      "outputs": [],
      "source": [
        "def remover_tarefa():\n",
        "  #Enumera as tarefas de acordo com seus indices na lista\n",
        "  for indice, tarefa in enumerate(tarefas):\n",
        "    print(\"------------------------\")\n",
        "    print(f\"Tarefa {indice}: {tarefa[1]}\")\n",
        "  #Solicita ao usuário que indique o número da tarefa que deseja remover\n",
        "  remover = int(input(\"Digite o número da tarefa que deseja remover: \"))\n",
        "  #Caso o usuário insira um número inválido, retorna para a seleção novamente\n",
        "  if remover > len(tarefas):\n",
        "        print(\"Índice inválido. Digite um número entre 0 e\", len(tarefas))\n",
        "        return\n",
        "  #Remove tarefa da lista\n",
        "  tarefas.pop(remover-1)"
      ]
    },
    {
      "cell_type": "code",
      "execution_count": null,
      "metadata": {
        "id": "jrLOXe5kYrdz"
      },
      "outputs": [],
      "source": [
        "def tarefa_concluida():\n",
        "  #Enumera as tarefas de acordo com seus indices na lista\n",
        "  for indice, tarefa in enumerate(tarefas):\n",
        "    print(\"------------------------\")\n",
        "    print(f\"Tarefa {indice}: {tarefa[1]}\\n\")\n",
        "  #Solicita ao usuário que indique o número da tarefa que deseja marcar como concluída\n",
        "  concluir = int(input(\"Digite o número da tarefa que deseja marcar como concluída: \"))\n",
        "  #Caso o usuário insira um número inválido, retorna para a seleção novamente\n",
        "  if concluir > len(tarefas):\n",
        "    print(\"Índice inválido. Digite um número entre 0 e\", len(tarefas))\n",
        "    return\n",
        "  #Acessa o a tarefa indicada pelo usuário e em seguida acessa o vetor status na lista realizando a alteração\n",
        "  tarefas[concluir-1] = tarefas[concluir-1][:5] + (\"Concluído\",)\n",
        "  print(\"Tarefa marcada como concluída.\")"
      ]
    },
    {
      "cell_type": "code",
      "execution_count": null,
      "metadata": {
        "id": "aADZgFha9YfO"
      },
      "outputs": [],
      "source": [
        "def menu ():\n",
        "  while True:\n",
        "    print(\"\\n\\n***SISTEMA DE GESTÃO DE TAREFAS***\")\n",
        "    print(\"Insira o número da opção desejada: \")\n",
        "    print(\"1- Adicionar tarefas\")\n",
        "    print(\"2- Listar tarefas\")\n",
        "    print(\"3- Marcar conclusão de tarefas\")\n",
        "    print(\"4- Remover tarefas\")\n",
        "    print(\"5- Sair\")\n",
        "\n",
        "    opcao_menu = int(input(\"Opção: \"))\n",
        "\n",
        "    if opcao_menu == 1:\n",
        "      print(\"\\n***CRIAR TAREFAS***\")\n",
        "      cria_tarefa()\n",
        "    elif opcao_menu == 2:\n",
        "      print(\"\\n***LISTAR TAREFAS***\")\n",
        "      lista_tarefas()\n",
        "    elif opcao_menu == 3:\n",
        "      print(\"\\n***TAREFAS CONCLUÍDAS***\")\n",
        "      tarefa_concluida()\n",
        "    elif opcao_menu == 4:\n",
        "      print(\"\\n***REMOVER TAREFAS***\")\n",
        "      remover_tarefa()\n",
        "    else:\n",
        "      print(\"\\n\\n*****SESSÃO ENCERRADA*****\")\n",
        "      break"
      ]
    },
    {
      "cell_type": "code",
      "execution_count": null,
      "metadata": {
        "colab": {
          "background_save": true
        },
        "id": "uOzvamybBRzo"
      },
      "outputs": [],
      "source": [
        "menu()"
      ]
    }
  ],
  "metadata": {
    "colab": {
      "provenance": [],
      "authorship_tag": "ABX9TyPf040qq6D5nhBa5vqNEeu2",
      "include_colab_link": true
    },
    "kernelspec": {
      "display_name": "Python 3",
      "name": "python3"
    },
    "language_info": {
      "name": "python"
    }
  },
  "nbformat": 4,
  "nbformat_minor": 0
}