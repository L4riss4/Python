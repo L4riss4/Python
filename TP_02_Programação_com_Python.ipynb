{
  "nbformat": 4,
  "nbformat_minor": 0,
  "metadata": {
    "colab": {
      "provenance": [],
      "authorship_tag": "ABX9TyPY/AFR2HIBpol6AVygUrNt",
      "include_colab_link": true
    },
    "kernelspec": {
      "name": "python3",
      "display_name": "Python 3"
    },
    "language_info": {
      "name": "python"
    }
  },
  "cells": [
    {
      "cell_type": "markdown",
      "metadata": {
        "id": "view-in-github",
        "colab_type": "text"
      },
      "source": [
        "<a href=\"https://colab.research.google.com/github/L4riss4/Python/blob/main/TP_02_Programa%C3%A7%C3%A3o_com_Python.ipynb\" target=\"_parent\"><img src=\"https://colab.research.google.com/assets/colab-badge.svg\" alt=\"Open In Colab\"/></a>"
      ]
    },
    {
      "cell_type": "markdown",
      "source": [
        "#TP 02\n",
        "\n",
        "Nesta atividade iremos desenvolver um protótipo de um sistema de cadastro"
      ],
      "metadata": {
        "id": "dlsweqAMtB4Y"
      }
    },
    {
      "cell_type": "code",
      "source": [
        "registro = []\n",
        "def cria_registro():\n",
        "  nome = input(\"Digite seu nome completo\")\n",
        "  data_nasc = input(\"Digite a data de nascimento (ex.: dd/mm/aaaa): \")\n",
        "  cpf = input(\"CPF (sem pontuação): \")\n",
        "\n",
        "  nome_valido = nome_completo(nome)\n",
        "  data_valida =  data_nascimento(data_nasc)\n",
        "  cpf_formatado = cpf_modificado(cpf)\n",
        "  cpf_valido = valida_cpf(cpf)\n",
        "\n",
        "  while not valida_cpf(cpf):\n",
        "    cpf = input(\"CPF inválido. Digite um CPF válido (sem pontuação): \")\n",
        "  while not data_valida:\n",
        "      data_nasc = input(\"Data de nascimento inválida. Digite uma data válida (ex.: dd/mm/aaaa): \")\n",
        "      data_valida = data_nascimento(data_nasc)\n",
        "\n",
        "\n",
        "  registro.append((nome_valido, data_valida, cpf_formatado))\n",
        "  print(f\"Registro criado com sucesso! \\n\\nDados:\\nNome: {nome_valido}\\nData de Nascimento:{data_valida}\\nCPF:{cpf_formatado}\")"
      ],
      "metadata": {
        "id": "sgxVJPy_0Y_X"
      },
      "execution_count": null,
      "outputs": []
    },
    {
      "cell_type": "code",
      "source": [
        "def lista_registro():\n",
        "  for indice, registro_usuario in enumerate(registro):\n",
        "    print(f\"\\n       Registro {indice} \\nNome: {registro_usuario[0]} \\nData Nascimento: {registro_usuario[1]} \\nCPF: {registro_usuario[2]}\")\n",
        "    print(\"---------------------------\")"
      ],
      "metadata": {
        "id": "xM3Gxmgp8cf8"
      },
      "execution_count": null,
      "outputs": []
    },
    {
      "cell_type": "code",
      "source": [
        "def nome_completo(nome):\n",
        "  return nome.title()"
      ],
      "metadata": {
        "id": "bGlh4XliCkPQ"
      },
      "execution_count": null,
      "outputs": []
    },
    {
      "cell_type": "code",
      "source": [
        "def cpf_modificado(cpf):\n",
        "   cpf = ''.join(filter(str.isdigit, cpf))\n",
        "   cpf_alterado = f\"{cpf[:3]}.{cpf[3:6]}.{cpf[6:9]}-{cpf[9:]}\"\n",
        "\n",
        "   return cpf_alterado"
      ],
      "metadata": {
        "id": "scvxDznZ4SF2"
      },
      "execution_count": null,
      "outputs": []
    },
    {
      "cell_type": "code",
      "source": [
        "import datetime\n",
        "\n",
        "def data_nascimento(data):\n",
        "  try:\n",
        "    dia,mes,ano = map(int, data.split(\"/\"))\n",
        "    form_data = datetime.date(ano,mes,dia)\n",
        "\n",
        "    if form_data.strftime(\"%d/%m/%Y\") != data:\n",
        "      print(\"Erro conversão data!\")\n",
        "    if ano % 4 == 0 and (ano % 100 != 0 or ano % 400 == 0):\n",
        "      dias_no_mes = [31, 29, 31, 30, 31, 30, 31, 31, 30, 31, 30, 31]\n",
        "    else:\n",
        "      dias_no_mes = [31, 28, 31, 30, 31, 30, 31, 31, 30, 31, 30, 31]\n",
        "\n",
        "    if 1<= mes <= 12 and 1 <= dia <= dias_no_mes[mes - 1]:\n",
        "        return form_data.strftime(\"%d-%m-%Y\")\n",
        "    return False\n",
        "\n",
        "  except ValueError:\n",
        "        print(\"Data inválida. Digite uma data no formato dd/mm/aaaa válida.\")\n",
        "        return False"
      ],
      "metadata": {
        "id": "TFpaG71yoEgN"
      },
      "execution_count": null,
      "outputs": []
    },
    {
      "cell_type": "code",
      "source": [
        "def valida_cpf(cpf):\n",
        "  cpf = ''.join(filter(str.isdigit, cpf))\n",
        "\n",
        "  if len(cpf) != 11:\n",
        "      return False\n",
        "\n",
        "  soma = 0\n",
        "  peso = 10\n",
        "  for i in range(9):\n",
        "      soma += int(cpf[i]) * peso\n",
        "      peso -= 1\n",
        "\n",
        "  resto = soma % 11\n",
        "  if resto < 2:\n",
        "      digito1 = 0\n",
        "  else:\n",
        "      digito1 = 11 - resto\n",
        "\n",
        "  if int(cpf[9]) != digito1:\n",
        "      return False\n",
        "\n",
        "  soma = 0\n",
        "  peso = 11\n",
        "  for i in range(10):\n",
        "      soma += int(cpf[i]) * peso\n",
        "      peso -= 1\n",
        "\n",
        "  resto = soma % 11\n",
        "  if resto < 2:\n",
        "      digito2 = 0\n",
        "  else:\n",
        "      digito2 = 11 - resto\n",
        "\n",
        "  if int(cpf[10]) != digito2:\n",
        "      return False\n",
        "\n",
        "  return True"
      ],
      "metadata": {
        "id": "z1_mpaqjxycR"
      },
      "execution_count": null,
      "outputs": []
    },
    {
      "cell_type": "code",
      "source": [
        "def modifica_registro():\n",
        "  for i, nome in enumerate(registro):\n",
        "      print(f\"Registro nº {i+1}: {nome[0]} - CPF: {nome[2]}\")\n",
        "      print(\"\\n------------------------\")\n",
        "  modificar = int(input(\"Digite o número do registro que deseja modificar:\" ))\n",
        "\n",
        "  if modificar > len(registro):\n",
        "    print(\"\\nRegistro inválido! Tente novamente.\")\n",
        "    return\n",
        "\n",
        "  selecionado = registro[modificar - 1]\n",
        "\n",
        "  print(f\"\\nNome: {selecionado[0]}\\nData de Nascimento: {selecionado[1]}\\nCPF: {selecionado[2]}\")\n",
        "\n",
        "  dado = input(\"\\nQual dado deseja alterar? (nome/data_nascimento/cpf): \").lower()\n",
        "\n",
        "  if dado == \"nome\":\n",
        "      novo_nome = input(\"Digite o novo nome: \")\n",
        "      novo_nome = nome_completo(novo_nome)\n",
        "      novo_registro = (novo_nome, selecionado[1], selecionado[2])\n",
        "      registro[modificar - 1] = novo_registro\n",
        "      print(f\"\\nNome alterado para: {novo_nome}\")\n",
        "  elif dado == \"data_nascimento\":\n",
        "      nova_data = input(\"Digite a nova data (dd/mm/aaaa): \")\n",
        "      nova_data = data_nascimento(nova_data)\n",
        "      novo_registro = (selecionado[0], nova_data, selecionado[2])\n",
        "      registro[modificar - 1] = novo_registro\n",
        "      print(f\"\\nData de Nascimento alterada para: {nova_data}\")\n",
        "  elif dado == \"cpf\":\n",
        "      novo_cpf = input(\"Digite o novo CPF (somente números): \")\n",
        "      novo_cpf = cpf_modificado(novo_cpf)\n",
        "      novo_registro = (selecionado[0], selecionado[1], novo_cpf)\n",
        "      registro[modificar - 1] = novo_registro\n",
        "  else:\n",
        "      print(\"\\nValor inválido! Operação encerrada.\")\n",
        "      return\n",
        "  print(\"\\nRegistro atualizado com sucesso!\")"
      ],
      "metadata": {
        "id": "0XUta0VXdGyR"
      },
      "execution_count": null,
      "outputs": []
    },
    {
      "cell_type": "code",
      "source": [
        "def excluir_registro():\n",
        "  for i, j in enumerate(registro):\n",
        "    print(f\"Registro nº {i}: \\nNome:{j[0]}\\nData de nascimento: {j[1]}\\nCPF: {j[2]}\\n\")\n",
        "    print(\"------------------------\")\n",
        "  excluir = int(input(\"Digite o numero do registro que deseja excluir: \"))\n",
        "\n",
        "  if excluir > len(registro):\n",
        "    print(f\"\\nNão há registro de número {excluir}!\")\n",
        "    return\n",
        "  registro.pop(excluir)\n",
        "  print(f\"\\nExclusão do registro nº {excluir} realizada com sucesso!\")\n",
        "\n",
        "  return registro"
      ],
      "metadata": {
        "id": "yD1yK67-kwWm"
      },
      "execution_count": null,
      "outputs": []
    },
    {
      "cell_type": "code",
      "source": [
        "#Desenvolva uma função que apresente um menu inicial com as opções listadas abaixo e que tenha como retorno a opção escolhida:\n",
        "\"\"\"- Criar um registro\n",
        "- Consultar um registro pelo ID\n",
        "- Listar os registros\n",
        "- Modificar um registro\n",
        "- Apagar um registro\n",
        "- Sair.\"\"\"\n",
        "\n",
        "def menu ():\n",
        "  while True:\n",
        "    print(\"\\n\\n***SISTEMA DE CADASTRO E CONSULTA***\")\n",
        "    print(\"Insira o número da opção desejada: \")\n",
        "    print(\"1- Criar um registro\")\n",
        "    print(\"2- Listar registros\")\n",
        "    print(\"3- Modificar um registro\")\n",
        "    print(\"4- Apagar um registro\")\n",
        "    print(\"5- Sair\")\n",
        "\n",
        "    opcao_menu = int(input(\"Opção: \"))\n",
        "\n",
        "    if opcao_menu == 1:\n",
        "      print(\"***CRIAR REGISTRO***\\n\")\n",
        "      cria_registro()\n",
        "    elif opcao_menu == 2:\n",
        "      print(\"***LISTAR REGISTROS***\\n\")\n",
        "      lista_registro()\n",
        "    elif opcao_menu == 3:\n",
        "      print(\"***MODIFICAR REGISTRO***\\n\")\n",
        "      modifica_registro()\n",
        "    elif opcao_menu == 4:\n",
        "      print(\"***APAGAR REGISTRO***\\n\")\n",
        "      excluir_registro()\n",
        "    else:\n",
        "      print(\"\\n\\n*****SESSÃO ENCERRADA*****\")\n",
        "      break\n"
      ],
      "metadata": {
        "id": "EHzvL21StYyV"
      },
      "execution_count": null,
      "outputs": []
    },
    {
      "cell_type": "code",
      "source": [
        "## OBS.: bug ao fazer cadastro de usuário, assim que aparecer cpf invalido inserir 00000000000. O valor salvo será o do primeiro inserido\n",
        "menu()"
      ],
      "metadata": {
        "id": "wEC-sBca7QdM",
        "colab": {
          "base_uri": "https://localhost:8080/"
        },
        "outputId": "16fbe473-5e02-4ac2-ec83-d6e25866c13e"
      },
      "execution_count": null,
      "outputs": [
        {
          "output_type": "stream",
          "name": "stdout",
          "text": [
            "\n",
            "\n",
            "***SISTEMA DE CADASTRO E CONSULTA***\n",
            "Insira o número da opção desejada: \n",
            "1- Criar um registro\n",
            "2- Listar registros\n",
            "3- Modificar um registro\n",
            "4- Apagar um registro\n",
            "5- Sair\n",
            "Opção: 4\n",
            "***APAGAR REGISTRO***\n",
            "\n",
            "Registro nº 0: \n",
            "Nome:Larissa Araujo\n",
            "Data de nascimento: 26-08-2008\n",
            "CPF: 563.412.589-45\n",
            "\n",
            "------------------------\n",
            "Registro nº 1: \n",
            "Nome:Larissa Xavier\n",
            "Data de nascimento: 24-04-2004\n",
            "CPF: 563.412.589-07\n",
            "\n",
            "------------------------\n",
            "Registro nº 2: \n",
            "Nome:Amanda Silva\n",
            "Data de nascimento: 24-04-2050\n",
            "CPF: 145.264.785-35\n",
            "\n",
            "------------------------\n",
            "Digite o numero do registro que deseja excluir: 1\n",
            "\n",
            "Exclusão do registro nº 1 realizada com sucesso!\n",
            "\n",
            "\n",
            "***SISTEMA DE CADASTRO E CONSULTA***\n",
            "Insira o número da opção desejada: \n",
            "1- Criar um registro\n",
            "2- Listar registros\n",
            "3- Modificar um registro\n",
            "4- Apagar um registro\n",
            "5- Sair\n",
            "Opção: 2\n",
            "***LISTAR REGISTROS***\n",
            "\n",
            "\n",
            "       Registro 0 \n",
            "Nome: Larissa Araujo \n",
            "Data Nascimento: 26-08-2008 \n",
            "CPF: 563.412.589-45\n",
            "---------------------------\n",
            "\n",
            "       Registro 1 \n",
            "Nome: Amanda Silva \n",
            "Data Nascimento: 24-04-2050 \n",
            "CPF: 145.264.785-35\n",
            "---------------------------\n",
            "\n",
            "\n",
            "***SISTEMA DE CADASTRO E CONSULTA***\n",
            "Insira o número da opção desejada: \n",
            "1- Criar um registro\n",
            "2- Listar registros\n",
            "3- Modificar um registro\n",
            "4- Apagar um registro\n",
            "5- Sair\n",
            "Opção: 5\n",
            "\n",
            "\n",
            "*****SESSÃO ENCERRADA*****\n"
          ]
        }
      ]
    }
  ]
}